{
  "cells": [
    {
      "cell_type": "code",
      "execution_count": 1,
      "metadata": {
        "colab": {
          "base_uri": "https://localhost:8080/"
        },
        "id": "GhS3l6TBIFsH",
        "outputId": "525e1e3e-d225-4296-aec0-bc5bd7a9bcb0"
      },
      "outputs": [
        {
          "output_type": "stream",
          "name": "stdout",
          "text": [
            "Mounted at /content/drive\n"
          ]
        }
      ],
      "source": [
        "from google.colab import drive\n",
        "drive.mount('/content/drive')"
      ]
    },
    {
      "cell_type": "code",
      "execution_count": 2,
      "metadata": {
        "id": "yWpejyuoUk6K"
      },
      "outputs": [],
      "source": [
        "import matplotlib.pyplot as plt\n",
        "import matplotlib.ticker as ticker\n",
        "import numpy as np  # linear algebra\n",
        "import pandas as pd  # data processing, CSV file I/O (e.g. pd.read_csv)\n",
        "import glob\n",
        "import keras\n",
        "import tensorflow as tf\n",
        "from keras.applications import ResNet152V2, ResNet50V2\n",
        "from keras.optimizers import Adam, SGD, RMSprop\n",
        "from keras.layers import Dense, GlobalAveragePooling2D, Flatten, Dropout, Input\n",
        "from keras.callbacks import ReduceLROnPlateau, EarlyStopping\n",
        "from keras.preprocessing.image import ImageDataGenerator\n",
        "from sklearn.model_selection import train_test_split\n",
        "from sklearn.metrics import precision_score, recall_score, f1_score\n",
        "from sklearn.utils import shuffle"
      ]
    },
    {
      "cell_type": "markdown",
      "metadata": {
        "id": "4_mzAbtwuSD3"
      },
      "source": [
        "Generate Data From chest_xray Folder:\n",
        "* Here we split the data in a way that we have bacteria, virus and normal images. in the proper way- some of each and not in a total randomize way\n",
        "* TODO: Need to chek why the depth of the image is 3 and not 1 as in regular cnn network"
      ]
    },
    {
      "cell_type": "code",
      "execution_count": 3,
      "metadata": {
        "id": "LTk0lU1suSD4"
      },
      "outputs": [],
      "source": [
        "# IMG_SIZE = 150\n",
        "IMG_DEPTH = 3\n",
        "IMG_SIZE = 224\n",
        "BATCH = 16\n",
        "SEED = 42\n",
        "\n",
        "normal_dataset = glob.glob('/content/drive/MyDrive/Deep Learning Project/chest_xray/NORMAL/*.jpeg')\n",
        "pneumonia_dataset = glob.glob('/content/drive/MyDrive/Deep Learning Project/chest_xray/PNEUMONIA/*.jpeg')\n",
        "virus_dataset = list(filter(lambda x: 'virus' in x, pneumonia_dataset))\n",
        "bacterial_dataset = list(filter(lambda x: 'bacteria' in x, pneumonia_dataset))\n"
      ]
    },
    {
      "cell_type": "markdown",
      "metadata": {
        "id": "IGtnCg-JuSD4"
      },
      "source": [
        "Generate Train, Validation and Test Sets:"
      ]
    },
    {
      "cell_type": "code",
      "execution_count": 4,
      "metadata": {
        "id": "Nf93dxl1uSD4"
      },
      "outputs": [],
      "source": [
        "def split_data(dataSet, testSize, valSize):\n",
        "    train, test= train_test_split(dataSet, test_size=testSize, random_state=SEED, shuffle=True)\n",
        "    train, val= train_test_split(train, test_size=valSize, random_state=SEED, shuffle=True)\n",
        "    return train, test, val\n",
        "\n",
        "\n",
        "train_normal, test_normal, val_normal = split_data(normal_dataset, 0.15, 0.038)\n",
        "train_bacterial, test_bacterial, val_bacterial = split_data(bacterial_dataset, 0.05, 0.0095)\n",
        "train_virus, test_virus, val_virus = split_data(virus_dataset, 0.075, 0.019)\n",
        "\n",
        "\n",
        "\n",
        "train = [x for x in train_normal]\n",
        "train.extend([x for x in train_bacterial])\n",
        "train.extend([x for x in train_virus])\n",
        "\n",
        "test = [x for x in test_normal]\n",
        "test.extend([x for x in test_bacterial])\n",
        "test.extend([x for x in test_virus])\n",
        "\n",
        "val = [x for x in val_normal]\n",
        "val.extend([x for x in val_bacterial])\n",
        "val.extend([x for x in val_virus])\n",
        "\n",
        "df_train = pd.DataFrame(np.concatenate([['Normal']*(len(train_normal)) , ['Pneumonia']*(len(train_bacterial) + len(train_virus))]), columns = ['class'])\n",
        "df_train['image'] = [x for x in train]\n",
        "\n",
        "df_val = pd.DataFrame(np.concatenate([['Normal']*(len(val_normal)) , ['Pneumonia']*(len(val_bacterial) + len(val_virus))]), columns = ['class'])\n",
        "df_val['image'] = [x for x in val]\n",
        "\n",
        "df_test = pd.DataFrame(np.concatenate([['Normal']*len(test_normal) , ['Pneumonia']*(len(test_bacterial) + len(test_virus))]), columns = ['class'])\n",
        "df_test['image'] = [x for x in test]\n",
        "\n"
      ]
    },
    {
      "cell_type": "markdown",
      "metadata": {
        "id": "-B91ieZ8uSD4"
      },
      "source": [
        "Perform Data Augmentation on Each Set:\n",
        "* TODO: Need to check why we are doing data augmentation on all 3 sets\n",
        "  and not just on the training set as in the regular cnn network."
      ]
    },
    {
      "cell_type": "code",
      "execution_count": 5,
      "metadata": {
        "colab": {
          "base_uri": "https://localhost:8080/"
        },
        "id": "_IokpxVauSD4",
        "outputId": "b091042e-31a6-4ca9-cfea-44264b9d592e"
      },
      "outputs": [
        {
          "output_type": "stream",
          "name": "stdout",
          "text": [
            "Found 5262 validated image filenames belonging to 2 classes.\n",
            "Found 105 validated image filenames belonging to 2 classes.\n",
            "Found 489 validated image filenames belonging to 2 classes.\n"
          ]
        }
      ],
      "source": [
        "\n",
        "# With data augmentation to prevent overfitting and handling the imbalance in dataset\n",
        "# Because the dataset is small we \"increase\" the dataset by change of images parameters.\n",
        "# In this way we increase our dataset and prevent overfitting.\n",
        "\n",
        "train_datagen = ImageDataGenerator(rescale=1/255.,\n",
        "                                  zoom_range = 0.1,\n",
        "                                  #rotation_range = 0.1,\n",
        "                                  width_shift_range = 0.1,\n",
        "                                  height_shift_range = 0.1)\n",
        "\n",
        "test_datagen = ImageDataGenerator(rescale=1/255.)\n",
        "\n",
        "ds_train = train_datagen.flow_from_dataframe(df_train,\n",
        "                                             #directory=train_path, #dataframe contains the full paths\n",
        "                                             x_col = 'image',\n",
        "                                             y_col = 'class',\n",
        "                                             target_size = (IMG_SIZE, IMG_SIZE),\n",
        "                                             class_mode = 'binary',\n",
        "                                             batch_size = BATCH,\n",
        "                                             seed = SEED)\n",
        "\n",
        "ds_val = test_datagen.flow_from_dataframe(df_val,\n",
        "                                            #directory=train_path,\n",
        "                                            x_col = 'image',\n",
        "                                            y_col = 'class',\n",
        "                                            target_size = (IMG_SIZE, IMG_SIZE),\n",
        "                                            class_mode = 'binary',\n",
        "                                            batch_size = BATCH,\n",
        "                                            seed = SEED)\n",
        "\n",
        "ds_test = test_datagen.flow_from_dataframe(df_test,\n",
        "                                            #directory=test_path,\n",
        "                                            x_col = 'image',\n",
        "                                            y_col = 'class',\n",
        "                                            target_size = (IMG_SIZE, IMG_SIZE),\n",
        "                                            class_mode = 'binary',\n",
        "                                            batch_size = 1,\n",
        "                                            shuffle = False)"
      ]
    },
    {
      "cell_type": "markdown",
      "metadata": {
        "id": "u_XCl4OHuSD5"
      },
      "source": [
        "# Building CNN Network- Transfer Learning with Fine Tuning"
      ]
    },
    {
      "cell_type": "markdown",
      "metadata": {
        "id": "XEcdy_u3uSD5"
      },
      "source": [
        "Create and Freeze the Base Model and Get the Pre-Trained Model\n",
        "* This function creates a base model and freezeing all of its layers."
      ]
    },
    {
      "cell_type": "code",
      "execution_count": 6,
      "metadata": {
        "id": "zBLha4aJuSD5"
      },
      "outputs": [],
      "source": [
        "def create_base_model():\n",
        "    # --------- create base model ----------#\n",
        "    base_model = ResNet50V2(\n",
        "        weights='imagenet',\n",
        "        input_shape=(IMG_SIZE, IMG_SIZE, IMG_DEPTH),\n",
        "        include_top=False)\n",
        "\n",
        "    # --------- FREEZE base model ----------#\n",
        "    base_model.trainable = False\n",
        "    return base_model\n"
      ]
    },
    {
      "cell_type": "markdown",
      "metadata": {
        "id": "W2UDXx0xuSD5"
      },
      "source": [
        "Get the Pre-Trained Model\n",
        "* If you are creating many models in a loop, this global state will consume\n",
        "  an increasing amount of memory over time, and you may want to clear it.\n",
        "  Calling clear_session() releases the global state: this helps avoid clutter\n",
        "  from old models and layers, especially when memory is limited.\n",
        "* We use: keras.backend.clear_session()"
      ]
    },
    {
      "cell_type": "code",
      "execution_count": 7,
      "metadata": {
        "id": "4HH2ZquTuSD5"
      },
      "outputs": [],
      "source": [
        "def get_pre_trained_model(base_model):\n",
        "    # --------- get pretrained model ----------#\n",
        "    keras.backend.clear_session()\n",
        "\n",
        "    #Input shape = [width, height, color channels]\n",
        "    inputs = Input(shape=(IMG_SIZE, IMG_SIZE, IMG_DEPTH))\n",
        "\n",
        "    x = base_model(inputs, training=False)\n",
        "\n",
        "    # Head\n",
        "    x = GlobalAveragePooling2D()(x)\n",
        "    x = Dense(128, activation='relu')(x)\n",
        "    x = Dropout(0.2)(x)\n",
        "\n",
        "    #Final Layer (Output)\n",
        "    output = Dense(1, activation='sigmoid')(x)\n",
        "\n",
        "    pre_trained_model = keras.Model(inputs=[inputs], outputs=output)\n",
        "\n",
        "    return pre_trained_model"
      ]
    },
    {
      "cell_type": "markdown",
      "metadata": {
        "id": "BFSWb26VuSD6"
      },
      "source": [
        "Adding Fine Tuning\n",
        "* This function un-freezes the top layers of the base model."
      ]
    },
    {
      "cell_type": "code",
      "execution_count": 8,
      "metadata": {
        "id": "_kMu8xabuSD6"
      },
      "outputs": [],
      "source": [
        "def add_fine_tuning(base_model):\n",
        "    # Set the base_model as trainable\n",
        "    base_model.trainable = True\n",
        "\n",
        "    # Print the number of layers in the base_model\n",
        "    print(f\"Number of Layers In the Base Model: {len(base_model.layers)}\")\n",
        "\n",
        "    # Specify the layer index from which fine-tuning will start\n",
        "    fine_tune_from = -70\n",
        "\n",
        "    # Iterate through the layers of the base_model\n",
        "    # and set them as non-trainable up to the fine_tune_from index\n",
        "    for layer in base_model.layers[:fine_tune_from]:\n",
        "        layer.trainable = False"
      ]
    },
    {
      "cell_type": "markdown",
      "metadata": {
        "id": "MmgFrbCTuSD6"
      },
      "source": [
        "Try Different Epochs and Learning Rates\n",
        "* Compile and Train the Model for each Epoch and Learning Rate.\n",
        "\n",
        "* Plot Graphs of the Training and Validation Accuracy and Loss vs Epochs.\n",
        "\n",
        "* It is critical to only do fine tuning after the model with frozen layers has been trained to convergence.\n",
        "  If you mix randomly-initialized trainable layers with trainable layers that hold pre-trained features,\n",
        "  the randomly-initialized layers will cause very large gradient updates during training, which will destroy your pre-trained features.\n",
        "\n",
        "* It's also critical to use a very low learning rate at this stage, because you are training a much larger model than in the first round of training, on a dataset that is typically very small. As a result, you are at risk of overfitting very quickly if you apply large weight updates. Here, you only want to readapt the pretrained weights in an incremental way."
      ]
    },
    {
      "cell_type": "code",
      "execution_count": null,
      "metadata": {
        "colab": {
          "base_uri": "https://localhost:8080/",
          "height": 1000
        },
        "id": "ha3rYA90uSD6",
        "outputId": "82032d8a-a343-4885-fede-0321ae4fbe92"
      },
      "outputs": [
        {
          "metadata": {
            "tags": null
          },
          "name": "stdout",
          "output_type": "stream",
          "text": [
            "Downloading data from https://storage.googleapis.com/tensorflow/keras-applications/resnet/resnet50v2_weights_tf_dim_ordering_tf_kernels_notop.h5\n",
            "94668760/94668760 [==============================] - 1s 0us/step\n",
            "Epoch 1/20\n",
            "328/328 [==============================] - 1054s 3s/step - loss: 0.3465 - accuracy: 0.8411 - val_loss: 0.3930 - val_accuracy: 0.8286\n",
            "Epoch 2/20\n",
            "328/328 [==============================] - 137s 418ms/step - loss: 0.2650 - accuracy: 0.8934 - val_loss: 0.3325 - val_accuracy: 0.8286\n",
            "Epoch 3/20\n",
            "328/328 [==============================] - 140s 424ms/step - loss: 0.2363 - accuracy: 0.9052 - val_loss: 0.3135 - val_accuracy: 0.8476\n",
            "Epoch 4/20\n",
            "328/328 [==============================] - 136s 413ms/step - loss: 0.2144 - accuracy: 0.9143 - val_loss: 0.2734 - val_accuracy: 0.8476\n",
            "Epoch 5/20\n",
            "328/328 [==============================] - 135s 411ms/step - loss: 0.1994 - accuracy: 0.9215 - val_loss: 0.2748 - val_accuracy: 0.8381\n",
            "Epoch 6/20\n",
            "328/328 [==============================] - 135s 412ms/step - loss: 0.1882 - accuracy: 0.9255 - val_loss: 0.2413 - val_accuracy: 0.8857\n",
            "Epoch 7/20\n",
            "328/328 [==============================] - 132s 401ms/step - loss: 0.1892 - accuracy: 0.9268 - val_loss: 0.2568 - val_accuracy: 0.8571\n",
            "Epoch 8/20\n",
            "328/328 [==============================] - 135s 410ms/step - loss: 0.1816 - accuracy: 0.9295 - val_loss: 0.2424 - val_accuracy: 0.8762\n",
            "Epoch 9/20\n",
            "328/328 [==============================] - 135s 409ms/step - loss: 0.1765 - accuracy: 0.9316 - val_loss: 0.2090 - val_accuracy: 0.9143\n",
            "Epoch 10/20\n",
            "328/328 [==============================] - 133s 403ms/step - loss: 0.1689 - accuracy: 0.9367 - val_loss: 0.2051 - val_accuracy: 0.9143\n",
            "Epoch 11/20\n",
            "328/328 [==============================] - 136s 414ms/step - loss: 0.1681 - accuracy: 0.9346 - val_loss: 0.2230 - val_accuracy: 0.8857\n",
            "Epoch 12/20\n",
            "328/328 [==============================] - 134s 407ms/step - loss: 0.1613 - accuracy: 0.9380 - val_loss: 0.2415 - val_accuracy: 0.8667\n",
            "Epoch 13/20\n",
            "328/328 [==============================] - 135s 411ms/step - loss: 0.1577 - accuracy: 0.9396 - val_loss: 0.2075 - val_accuracy: 0.9048\n",
            "Epoch 14/20\n",
            "328/328 [==============================] - 134s 408ms/step - loss: 0.1573 - accuracy: 0.9418 - val_loss: 0.2097 - val_accuracy: 0.8952\n",
            "Epoch 15/20\n",
            "328/328 [==============================] - 133s 404ms/step - loss: 0.1611 - accuracy: 0.9382 - val_loss: 0.1874 - val_accuracy: 0.9143\n",
            "Epoch 16/20\n",
            "328/328 [==============================] - 135s 411ms/step - loss: 0.1542 - accuracy: 0.9403 - val_loss: 0.2139 - val_accuracy: 0.8952\n",
            "Epoch 17/20\n",
            "328/328 [==============================] - 132s 402ms/step - loss: 0.1525 - accuracy: 0.9430 - val_loss: 0.2143 - val_accuracy: 0.8857\n",
            "Epoch 18/20\n",
            "328/328 [==============================] - 136s 413ms/step - loss: 0.1506 - accuracy: 0.9455 - val_loss: 0.1917 - val_accuracy: 0.9048\n",
            "Epoch 19/20\n",
            "328/328 [==============================] - 132s 401ms/step - loss: 0.1550 - accuracy: 0.9441 - val_loss: 0.1784 - val_accuracy: 0.9238\n",
            "Epoch 20/20\n",
            "328/328 [==============================] - 135s 410ms/step - loss: 0.1525 - accuracy: 0.9417 - val_loss: 0.1740 - val_accuracy: 0.9238\n",
            "Number of Layers In the Base Model: 190\n",
            "Epoch 20/40\n",
            "328/328 [==============================] - 145s 421ms/step - loss: 0.1382 - accuracy: 0.9500 - val_loss: 0.1661 - val_accuracy: 0.9238\n",
            "Epoch 21/40\n",
            "328/328 [==============================] - 133s 405ms/step - loss: 0.1167 - accuracy: 0.9571 - val_loss: 0.1570 - val_accuracy: 0.9333\n",
            "Epoch 22/40\n",
            "328/328 [==============================] - 135s 412ms/step - loss: 0.1139 - accuracy: 0.9578 - val_loss: 0.1550 - val_accuracy: 0.9238\n",
            "Epoch 23/40\n",
            "328/328 [==============================] - 134s 408ms/step - loss: 0.1108 - accuracy: 0.9597 - val_loss: 0.1579 - val_accuracy: 0.9143\n",
            "Epoch 24/40\n",
            "328/328 [==============================] - 143s 433ms/step - loss: 0.1036 - accuracy: 0.9616 - val_loss: 0.1591 - val_accuracy: 0.9238\n",
            "Epoch 25/40\n",
            "328/328 [==============================] - 134s 407ms/step - loss: 0.1026 - accuracy: 0.9666 - val_loss: 0.1536 - val_accuracy: 0.9238\n",
            "Epoch 26/40\n",
            "328/328 [==============================] - 134s 408ms/step - loss: 0.0955 - accuracy: 0.9686 - val_loss: 0.1604 - val_accuracy: 0.9238\n",
            "Epoch 27/40\n",
            "328/328 [==============================] - 136s 413ms/step - loss: 0.0924 - accuracy: 0.9639 - val_loss: 0.1524 - val_accuracy: 0.9238\n",
            "Epoch 28/40\n",
            "328/328 [==============================] - 134s 408ms/step - loss: 0.0895 - accuracy: 0.9681 - val_loss: 0.1562 - val_accuracy: 0.9238\n",
            "Epoch 29/40\n",
            "328/328 [==============================] - 134s 409ms/step - loss: 0.0775 - accuracy: 0.9732 - val_loss: 0.1682 - val_accuracy: 0.9238\n",
            "Epoch 30/40\n",
            "328/328 [==============================] - 134s 407ms/step - loss: 0.0874 - accuracy: 0.9677 - val_loss: 0.1760 - val_accuracy: 0.9143\n",
            "Epoch 31/40\n",
            "328/328 [==============================] - 133s 404ms/step - loss: 0.0788 - accuracy: 0.9726 - val_loss: 0.1661 - val_accuracy: 0.9333\n",
            "Epoch 32/40\n",
            "328/328 [==============================] - 132s 402ms/step - loss: 0.0760 - accuracy: 0.9728 - val_loss: 0.1772 - val_accuracy: 0.9143\n",
            "Epoch 33/40\n",
            "328/328 [==============================] - 132s 402ms/step - loss: 0.0730 - accuracy: 0.9728 - val_loss: 0.1707 - val_accuracy: 0.9143\n",
            "Epoch 34/40\n",
            "328/328 [==============================] - 133s 404ms/step - loss: 0.0713 - accuracy: 0.9757 - val_loss: 0.1681 - val_accuracy: 0.9238\n",
            "Epoch 35/40\n",
            "328/328 [==============================] - 136s 413ms/step - loss: 0.0691 - accuracy: 0.9770 - val_loss: 0.1721 - val_accuracy: 0.9143\n",
            "Epoch 36/40\n",
            "328/328 [==============================] - 134s 408ms/step - loss: 0.0715 - accuracy: 0.9747 - val_loss: 0.1692 - val_accuracy: 0.9333\n",
            "Epoch 37/40\n",
            "328/328 [==============================] - 133s 404ms/step - loss: 0.0690 - accuracy: 0.9755 - val_loss: 0.1907 - val_accuracy: 0.9238\n",
            "Epoch 38/40\n",
            "328/328 [==============================] - 135s 411ms/step - loss: 0.0627 - accuracy: 0.9761 - val_loss: 0.1743 - val_accuracy: 0.9238\n",
            "Epoch 39/40\n",
            "328/328 [==============================] - 134s 408ms/step - loss: 0.0664 - accuracy: 0.9768 - val_loss: 0.1711 - val_accuracy: 0.9333\n",
            "Epoch 40/40\n",
            "328/328 [==============================] - 137s 416ms/step - loss: 0.0676 - accuracy: 0.9762 - val_loss: 0.1739 - val_accuracy: 0.9238\n",
            "Test Loss: 0.11191345751285553\n",
            "Test Accuracy: 0.9509202241897583\n"
          ]
        },
        {
          "data": {
            "image/png": "[encoded data removed]",
            "text/plain": [
              "<Figure size 1400x500 with 2 Axes>"
            ]
          },
          "metadata": {},
          "output_type": "display_data"
        },
        {
          "output_type": "stream",
          "name": "stdout",
          "text": [
            "Epoch 1/20\n",
            "328/328 [==============================] - 138s 410ms/step - loss: 0.5603 - accuracy: 0.7085 - val_loss: 0.7315 - val_accuracy: 0.5619\n",
            "Epoch 2/20\n",
            "328/328 [==============================] - 133s 404ms/step - loss: 0.4467 - accuracy: 0.7896 - val_loss: 0.6320 - val_accuracy: 0.6381\n",
            "Epoch 3/20\n",
            "328/328 [==============================] - 132s 400ms/step - loss: 0.3932 - accuracy: 0.8219 - val_loss: 0.5644 - val_accuracy: 0.6857\n",
            "Epoch 4/20\n",
            "328/328 [==============================] - 132s 399ms/step - loss: 0.3637 - accuracy: 0.8434 - val_loss: 0.5181 - val_accuracy: 0.7048\n",
            "Epoch 5/20\n",
            "328/328 [==============================] - 131s 398ms/step - loss: 0.3492 - accuracy: 0.8447 - val_loss: 0.4879 - val_accuracy: 0.7238\n",
            "Epoch 6/20\n",
            "328/328 [==============================] - 130s 394ms/step - loss: 0.3224 - accuracy: 0.8653 - val_loss: 0.4701 - val_accuracy: 0.7238\n",
            "Epoch 7/20\n",
            "328/328 [==============================] - 134s 407ms/step - loss: 0.3179 - accuracy: 0.8630 - val_loss: 0.4216 - val_accuracy: 0.7524\n",
            "Epoch 8/20\n",
            "328/328 [==============================] - 131s 399ms/step - loss: 0.3056 - accuracy: 0.8742 - val_loss: 0.4178 - val_accuracy: 0.7524\n",
            "Epoch 9/20\n",
            "328/328 [==============================] - 134s 407ms/step - loss: 0.2973 - accuracy: 0.8719 - val_loss: 0.4005 - val_accuracy: 0.7810\n",
            "Epoch 10/20\n",
            "328/328 [==============================] - 131s 398ms/step - loss: 0.2919 - accuracy: 0.8765 - val_loss: 0.3750 - val_accuracy: 0.8095\n",
            "Epoch 11/20\n",
            "328/328 [==============================] - 130s 396ms/step - loss: 0.2844 - accuracy: 0.8816 - val_loss: 0.3688 - val_accuracy: 0.8095\n",
            "Epoch 12/20\n",
            "328/328 [==============================] - 133s 404ms/step - loss: 0.2738 - accuracy: 0.8888 - val_loss: 0.3576 - val_accuracy: 0.8190\n",
            "Epoch 13/20\n",
            "328/328 [==============================] - 135s 409ms/step - loss: 0.2648 - accuracy: 0.8938 - val_loss: 0.3506 - val_accuracy: 0.8286\n",
            "Epoch 14/20\n",
            "328/328 [==============================] - 129s 391ms/step - loss: 0.2638 - accuracy: 0.8949 - val_loss: 0.3472 - val_accuracy: 0.8286\n",
            "Epoch 15/20\n",
            "328/328 [==============================] - 130s 397ms/step - loss: 0.2598 - accuracy: 0.8959 - val_loss: 0.3325 - val_accuracy: 0.8286\n",
            "Epoch 16/20\n",
            "328/328 [==============================] - 127s 384ms/step - loss: 0.2585 - accuracy: 0.8955 - val_loss: 0.3190 - val_accuracy: 0.8381\n",
            "Epoch 17/20\n",
            "328/328 [==============================] - 129s 392ms/step - loss: 0.2555 - accuracy: 0.8957 - val_loss: 0.3213 - val_accuracy: 0.8381\n",
            "Epoch 18/20\n",
            "328/328 [==============================] - 127s 384ms/step - loss: 0.2450 - accuracy: 0.9002 - val_loss: 0.3149 - val_accuracy: 0.8381\n",
            "Epoch 19/20\n",
            "328/328 [==============================] - 129s 393ms/step - loss: 0.2448 - accuracy: 0.9002 - val_loss: 0.3090 - val_accuracy: 0.8381\n",
            "Epoch 20/20\n",
            "328/328 [==============================] - 129s 391ms/step - loss: 0.2416 - accuracy: 0.9044 - val_loss: 0.3110 - val_accuracy: 0.8381\n",
            "Number of Layers In the Base Model: 190\n",
            "Epoch 20/40\n",
            "328/328 [==============================] - 137s 406ms/step - loss: 0.2282 - accuracy: 0.9105 - val_loss: 0.2913 - val_accuracy: 0.8571\n",
            "Epoch 21/40\n",
            "328/328 [==============================] - 132s 400ms/step - loss: 0.2151 - accuracy: 0.9137 - val_loss: 0.2723 - val_accuracy: 0.8857\n",
            "Epoch 22/40\n",
            "328/328 [==============================] - 133s 403ms/step - loss: 0.2113 - accuracy: 0.9154 - val_loss: 0.2726 - val_accuracy: 0.8857\n",
            "Epoch 23/40\n",
            "328/328 [==============================] - 131s 397ms/step - loss: 0.2007 - accuracy: 0.9209 - val_loss: 0.2476 - val_accuracy: 0.8952\n",
            "Epoch 24/40\n",
            "328/328 [==============================] - 131s 398ms/step - loss: 0.1949 - accuracy: 0.9232 - val_loss: 0.2442 - val_accuracy: 0.8952\n",
            "Epoch 25/40\n",
            "328/328 [==============================] - 129s 393ms/step - loss: 0.1867 - accuracy: 0.9276 - val_loss: 0.2308 - val_accuracy: 0.9143\n",
            "Epoch 26/40\n",
            "328/328 [==============================] - 131s 399ms/step - loss: 0.1806 - accuracy: 0.9320 - val_loss: 0.2240 - val_accuracy: 0.9143\n",
            "Epoch 27/40\n",
            "328/328 [==============================] - 130s 394ms/step - loss: 0.1719 - accuracy: 0.9348 - val_loss: 0.2197 - val_accuracy: 0.9143\n",
            "Epoch 28/40\n",
            "328/328 [==============================] - 131s 399ms/step - loss: 0.1741 - accuracy: 0.9303 - val_loss: 0.2204 - val_accuracy: 0.9143\n",
            "Epoch 29/40\n",
            "328/328 [==============================] - 129s 393ms/step - loss: 0.1686 - accuracy: 0.9341 - val_loss: 0.2131 - val_accuracy: 0.9048\n",
            "Epoch 30/40\n",
            "328/328 [==============================] - 131s 398ms/step - loss: 0.1620 - accuracy: 0.9371 - val_loss: 0.2198 - val_accuracy: 0.9143\n",
            "Epoch 31/40\n",
            "328/328 [==============================] - 130s 395ms/step - loss: 0.1585 - accuracy: 0.9380 - val_loss: 0.2133 - val_accuracy: 0.9143\n",
            "Epoch 32/40\n",
            "328/328 [==============================] - 132s 400ms/step - loss: 0.1509 - accuracy: 0.9418 - val_loss: 0.1998 - val_accuracy: 0.9143\n",
            "Epoch 33/40\n",
            "328/328 [==============================] - 130s 394ms/step - loss: 0.1589 - accuracy: 0.9379 - val_loss: 0.1991 - val_accuracy: 0.9143\n",
            "Epoch 34/40\n",
            "328/328 [==============================] - 129s 393ms/step - loss: 0.1518 - accuracy: 0.9407 - val_loss: 0.1991 - val_accuracy: 0.9143\n",
            "Epoch 35/40\n",
            "328/328 [==============================] - 130s 394ms/step - loss: 0.1469 - accuracy: 0.9437 - val_loss: 0.1954 - val_accuracy: 0.9143\n",
            "Epoch 36/40\n",
            "328/328 [==============================] - 130s 396ms/step - loss: 0.1447 - accuracy: 0.9455 - val_loss: 0.2000 - val_accuracy: 0.9143\n",
            "Epoch 37/40\n",
            "131/328 [==========>...................] - ETA: 1:17 - loss: 0.1448 - accuracy: 0.9442"
          ]
        }
      ],
      "source": [
        "Epochs = [40]\n",
        "learning_rates= [0.0001]\n",
        "opt = SGD\n",
        "\n",
        "lr_epoch_test_acc = {}\n",
        "lr_epoch_test_loss = {}\n",
        "for Epoch in Epochs:\n",
        "  initial_epochs = Epoch//2\n",
        "  for lr in learning_rates:\n",
        "    base_model = create_base_model()\n",
        "    model = get_pre_trained_model(base_model)\n",
        "    # Training the model with all layers frozen\n",
        "    model.compile(loss='binary_crossentropy',\n",
        "                optimizer = opt(learning_rate=lr), metrics='accuracy')\n",
        "    # model.summary()\n",
        "    history = model.fit(ds_train,\n",
        "            batch_size=BATCH, epochs=initial_epochs,\n",
        "            validation_data=ds_val,\n",
        "            steps_per_epoch=(len(df_train)/BATCH),\n",
        "            validation_steps=(len(df_val)/BATCH))\n",
        "    # Evaluate the Accuracy and Loss (Before Fine Tuning)\n",
        "    train_acc = history.history['accuracy']\n",
        "    train_loss = history.history['loss']\n",
        "    val_acc = history.history['val_accuracy']\n",
        "    val_loss = history.history['val_loss']\n",
        "\n",
        "    # adding fine tuning\n",
        "    add_fine_tuning(base_model)\n",
        "    model.compile(loss='binary_crossentropy',\n",
        "                optimizer = opt(learning_rate=lr/10), metrics='accuracy')\n",
        "    history_fine = model.fit(ds_train,\n",
        "                        batch_size=BATCH,\n",
        "                        epochs=Epoch,\n",
        "                        initial_epoch=history.epoch[-1],\n",
        "                        validation_data=ds_val,\n",
        "                        steps_per_epoch=(len(df_train)/BATCH),\n",
        "                        validation_steps=(len(df_val)/BATCH))\n",
        "    # Evaluate the Accuracy and Loss (After Fine Tuning):\n",
        "\n",
        "    test_loss, test_accuracy = model.evaluate(ds_test, verbose=0)\n",
        "    lr_epoch_tuple = (Epoch, lr)\n",
        "    lr_epoch_test_acc[lr_epoch_tuple] = test_accuracy\n",
        "    lr_epoch_test_loss[lr_epoch_tuple] = test_loss\n",
        "    print(\"Test Loss:\", test_loss)\n",
        "    print(\"Test Accuracy:\", test_accuracy)\n",
        "\n",
        "    train_acc += history_fine.history['accuracy']\n",
        "    val_acc += history_fine.history['val_accuracy']\n",
        "    train_loss += history_fine.history['loss']\n",
        "    val_loss += history_fine.history['val_loss']\n",
        "\n",
        "    # Create a figure and subplot\n",
        "    fig, axs = plt.subplots(1, 2, figsize=(14, 5))\n",
        "    # Plot the training and validation accuracy\n",
        "    axs[0].plot(train_acc, 'bo-', label='Training Accuracy')\n",
        "    axs[0].plot(val_acc, 'ro-', label='Validation Accuracy')\n",
        "    axs[0].set_title(f'Training & Validation Accuracy\\n opt={opt.__name__}, lr={lr}, Epochs={Epoch}')\n",
        "    # axs[0].title.set_size(10) # if title is too big, change the size here\n",
        "    axs[0].legend(loc='lower right')\n",
        "    axs[0].set_xlabel(\"Epochs\")\n",
        "    axs[0].set_ylabel(\"Accuracy\")\n",
        "\n",
        "    # Plot the training and validation loss\n",
        "    axs[1].plot(train_loss, 'bo-', label='Training Loss')\n",
        "    axs[1].plot(val_loss, 'ro-', label='Validation Loss')\n",
        "    axs[1].set_title(f'Training & Validation Loss\\n opt={opt.__name__}, lr={lr}, Epochs={Epoch}')\n",
        "    # axs[1].title.set_size(10) # if title is too big, change the size here\n",
        "    axs[1].legend(loc='upper right')\n",
        "    axs[1].set_xlabel(\"Epochs\")\n",
        "    axs[1].set_ylabel(\"Loss\")\n",
        "\n",
        "    # Adjust spacing between subplots\n",
        "    plt.subplots_adjust(wspace=0.2)\n",
        "    plt.show()\n"
      ]
    },
    {
      "cell_type": "markdown",
      "metadata": {
        "id": "9TtI9ryluSD6"
      },
      "source": [
        "Print the Loss & Accuracy Dictionaries"
      ]
    },
    {
      "cell_type": "code",
      "execution_count": null,
      "metadata": {
        "id": "o5-89OACuSD6"
      },
      "outputs": [],
      "source": [
        "print(f\"Test Accuracy and Loss Results with Optimizer: {opt.__name__}\")\n",
        "print()\n",
        "print()\n",
        "def print_results_dict(Accuracy, Loss):\n",
        "    print(\"Print Accuracy Results\")\n",
        "    for key, val in Accuracy.items():\n",
        "        epochs, lr = key\n",
        "        print(f\"Epochs Number = {epochs}, Learning Rate = {lr}, Accuracy = {val:.3f}\")\n",
        "    print()\n",
        "    print()\n",
        "    print(\"Print Loss Results\")\n",
        "    for key, val in Loss.items():\n",
        "        epochs, lr = key\n",
        "        print(f\"Epochs Number = {epochs}, Learning Rate = {lr}, Loss = {val:.3f}\")\n",
        "\n",
        "\n",
        "print_results_dict(lr_epoch_test_acc, lr_epoch_test_loss)"
      ]
    }
  ],
  "metadata": {
    "accelerator": "GPU",
    "colab": {
      "gpuType": "T4",
      "provenance": []
    },
    "kernelspec": {
      "display_name": "Python 3",
      "name": "python3"
    },
    "language_info": {
      "name": "python",
      "version": "3.11.0"
    }
  },
  "nbformat": 4,
  "nbformat_minor": 0
}