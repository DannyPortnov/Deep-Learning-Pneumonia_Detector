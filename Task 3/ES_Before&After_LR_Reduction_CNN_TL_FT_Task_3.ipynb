{
  "cells": [
    {
      "cell_type": "code",
      "execution_count": 1,
      "metadata": {
        "colab": {
          "base_uri": "https://localhost:8080/"
        },
        "id": "GhS3l6TBIFsH",
        "outputId": "46dc7963-ef3f-4ecd-a27b-6ccfcd10169a"
      },
      "outputs": [
        {
          "output_type": "stream",
          "name": "stdout",
          "text": [
            "Mounted at /content/drive\n"
          ]
        }
      ],
      "source": [
        "from google.colab import drive\n",
        "drive.mount('/content/drive')"
      ]
    },
    {
      "cell_type": "code",
      "execution_count": 2,
      "metadata": {
        "id": "yWpejyuoUk6K"
      },
      "outputs": [],
      "source": [
        "import matplotlib.pyplot as plt\n",
        "import matplotlib.ticker as ticker\n",
        "import numpy as np  # linear algebra\n",
        "import pandas as pd  # data processing, CSV file I/O (e.g. pd.read_csv)\n",
        "import glob\n",
        "import keras\n",
        "import tensorflow as tf\n",
        "from keras.applications import ResNet152V2, ResNet50V2\n",
        "from keras.optimizers import Adam, SGD, RMSprop\n",
        "from keras.layers import Dense, GlobalAveragePooling2D, Flatten, Dropout, Input\n",
        "from keras.callbacks import ReduceLROnPlateau, EarlyStopping\n",
        "from keras.preprocessing.image import ImageDataGenerator\n",
        "from sklearn.model_selection import train_test_split\n",
        "from sklearn.metrics import precision_score, recall_score, f1_score\n",
        "from sklearn.utils import shuffle"
      ]
    },
    {
      "cell_type": "markdown",
      "metadata": {
        "id": "DkCUt9DvYRYb"
      },
      "source": [
        "Generate Data From chest_xray Folder:\n",
        "* Here we split the data in a way that we have bacteria, virus and normal images. in the proper way- some of each and not in a total randomize way\n",
        "* TODO: Need to chek why the depth of the image is 3 and not 1 as in regular cnn network"
      ]
    },
    {
      "cell_type": "code",
      "execution_count": 3,
      "metadata": {
        "id": "iedGIglVYRYc"
      },
      "outputs": [],
      "source": [
        "# IMG_SIZE = 150\n",
        "IMG_DEPTH = 3\n",
        "IMG_SIZE = 224\n",
        "BATCH = 16\n",
        "SEED = 42\n",
        "\n",
        "normal_dataset = glob.glob('/content/drive/MyDrive/Deep Learning Project/chest_xray/NORMAL/*.jpeg')\n",
        "pneumonia_dataset = glob.glob('/content/drive/MyDrive/Deep Learning Project/chest_xray/PNEUMONIA/*.jpeg')\n",
        "virus_dataset = list(filter(lambda x: 'virus' in x, pneumonia_dataset))\n",
        "bacterial_dataset = list(filter(lambda x: 'bacteria' in x, pneumonia_dataset))\n"
      ]
    },
    {
      "cell_type": "markdown",
      "metadata": {
        "id": "pZVy4-TVYRYc"
      },
      "source": [
        "Generate Train, Validation and Test Sets:"
      ]
    },
    {
      "cell_type": "code",
      "execution_count": 4,
      "metadata": {
        "id": "PZqB31fHYRYd"
      },
      "outputs": [],
      "source": [
        "def split_data(dataSet, testSize, valSize):\n",
        "    train, test= train_test_split(dataSet, test_size=testSize, random_state=SEED, shuffle=True)\n",
        "    train, val= train_test_split(train, test_size=valSize, random_state=SEED, shuffle=True)\n",
        "    return train, test, val\n",
        "\n",
        "\n",
        "train_normal, test_normal, val_normal = split_data(normal_dataset, 0.15, 0.038)\n",
        "train_bacterial, test_bacterial, val_bacterial = split_data(bacterial_dataset, 0.05, 0.0095)\n",
        "train_virus, test_virus, val_virus = split_data(virus_dataset, 0.075, 0.019)\n",
        "\n",
        "\n",
        "\n",
        "train = [x for x in train_normal]\n",
        "train.extend([x for x in train_bacterial])\n",
        "train.extend([x for x in train_virus])\n",
        "\n",
        "test = [x for x in test_normal]\n",
        "test.extend([x for x in test_bacterial])\n",
        "test.extend([x for x in test_virus])\n",
        "\n",
        "val = [x for x in val_normal]\n",
        "val.extend([x for x in val_bacterial])\n",
        "val.extend([x for x in val_virus])\n",
        "\n",
        "df_train = pd.DataFrame(np.concatenate([['Normal']*(len(train_normal)) , ['Pneumonia']*(len(train_bacterial) + len(train_virus))]), columns = ['class'])\n",
        "df_train['image'] = [x for x in train]\n",
        "\n",
        "df_val = pd.DataFrame(np.concatenate([['Normal']*(len(val_normal)) , ['Pneumonia']*(len(val_bacterial) + len(val_virus))]), columns = ['class'])\n",
        "df_val['image'] = [x for x in val]\n",
        "\n",
        "df_test = pd.DataFrame(np.concatenate([['Normal']*len(test_normal) , ['Pneumonia']*(len(test_bacterial) + len(test_virus))]), columns = ['class'])\n",
        "df_test['image'] = [x for x in test]\n",
        "\n"
      ]
    },
    {
      "cell_type": "markdown",
      "metadata": {
        "id": "psoXiaNzYRYd"
      },
      "source": [
        "Perform Data Augmentation on Each Set:\n",
        "* TODO: Need to check why we are doing data augmentation on all 3 sets\n",
        "  and not just on the training set as in the regular cnn network."
      ]
    },
    {
      "cell_type": "code",
      "execution_count": 5,
      "metadata": {
        "colab": {
          "base_uri": "https://localhost:8080/"
        },
        "id": "jVIe39UrYRYd",
        "outputId": "6292d7df-89ed-4ed3-c7a5-ee11956d432b"
      },
      "outputs": [
        {
          "output_type": "stream",
          "name": "stdout",
          "text": [
            "Found 5262 validated image filenames belonging to 2 classes.\n",
            "Found 105 validated image filenames belonging to 2 classes.\n",
            "Found 489 validated image filenames belonging to 2 classes.\n"
          ]
        }
      ],
      "source": [
        "\n",
        "# With data augmentation to prevent overfitting and handling the imbalance in dataset\n",
        "# Because the dataset is small we \"increase\" the dataset by change of images parameters.\n",
        "# In this way we increase our dataset and prevent overfitting.\n",
        "\n",
        "train_datagen = ImageDataGenerator(rescale=1/255.,\n",
        "                                  zoom_range = 0.1,\n",
        "                                  #rotation_range = 0.1,\n",
        "                                  width_shift_range = 0.1,\n",
        "                                  height_shift_range = 0.1)\n",
        "\n",
        "test_datagen = ImageDataGenerator(rescale=1/255.)\n",
        "\n",
        "ds_train = train_datagen.flow_from_dataframe(df_train,\n",
        "                                             #directory=train_path, #dataframe contains the full paths\n",
        "                                             x_col = 'image',\n",
        "                                             y_col = 'class',\n",
        "                                             target_size = (IMG_SIZE, IMG_SIZE),\n",
        "                                             class_mode = 'binary',\n",
        "                                             batch_size = BATCH,\n",
        "                                             seed = SEED)\n",
        "\n",
        "ds_val = test_datagen.flow_from_dataframe(df_val,\n",
        "                                            #directory=train_path,\n",
        "                                            x_col = 'image',\n",
        "                                            y_col = 'class',\n",
        "                                            target_size = (IMG_SIZE, IMG_SIZE),\n",
        "                                            class_mode = 'binary',\n",
        "                                            batch_size = BATCH,\n",
        "                                            seed = SEED)\n",
        "\n",
        "ds_test = test_datagen.flow_from_dataframe(df_test,\n",
        "                                            #directory=test_path,\n",
        "                                            x_col = 'image',\n",
        "                                            y_col = 'class',\n",
        "                                            target_size = (IMG_SIZE, IMG_SIZE),\n",
        "                                            class_mode = 'binary',\n",
        "                                            batch_size = 1,\n",
        "                                            shuffle = False)"
      ]
    },
    {
      "cell_type": "markdown",
      "metadata": {
        "id": "Fvj0umZnYRYe"
      },
      "source": [
        "# Building CNN Network- Transfer Learning with Fine Tuning"
      ]
    },
    {
      "cell_type": "markdown",
      "metadata": {
        "id": "N2HkVXncYRYe"
      },
      "source": [
        "Create and Freeze the Base Model and Get the Pre-Trained Model\n",
        "* This function creates a base model and freezeing all of its layers."
      ]
    },
    {
      "cell_type": "code",
      "execution_count": 6,
      "metadata": {
        "id": "xLMz1AEpYRYe"
      },
      "outputs": [],
      "source": [
        "def create_base_model():\n",
        "    # --------- create base model ----------#\n",
        "    base_model = ResNet50V2(\n",
        "        weights='imagenet',\n",
        "        input_shape=(IMG_SIZE, IMG_SIZE, IMG_DEPTH),\n",
        "        include_top=False)\n",
        "\n",
        "    # --------- FREEZE base model ----------#\n",
        "    base_model.trainable = False\n",
        "    return base_model\n"
      ]
    },
    {
      "cell_type": "markdown",
      "metadata": {
        "id": "CIhMtrUOYRYe"
      },
      "source": [
        "Get the Pre-Trained Model\n",
        "* If you are creating many models in a loop, this global state will consume\n",
        "  an increasing amount of memory over time, and you may want to clear it.\n",
        "  Calling clear_session() releases the global state: this helps avoid clutter\n",
        "  from old models and layers, especially when memory is limited.\n",
        "* We use: keras.backend.clear_session()"
      ]
    },
    {
      "cell_type": "code",
      "execution_count": 7,
      "metadata": {
        "id": "zxEpXXG5YRYe"
      },
      "outputs": [],
      "source": [
        "def get_pre_trained_model(base_model):\n",
        "    # --------- get pretrained model ----------#\n",
        "    keras.backend.clear_session()\n",
        "\n",
        "    #Input shape = [width, height, color channels]\n",
        "    inputs = Input(shape=(IMG_SIZE, IMG_SIZE, IMG_DEPTH))\n",
        "\n",
        "    x = base_model(inputs, training=False)\n",
        "\n",
        "    # Head\n",
        "    x = GlobalAveragePooling2D()(x)\n",
        "    x = Dense(128, activation='relu')(x)\n",
        "    x = Dropout(0.2)(x)\n",
        "\n",
        "    #Final Layer (Output)\n",
        "    output = Dense(1, activation='sigmoid')(x)\n",
        "\n",
        "    pre_trained_model = keras.Model(inputs=[inputs], outputs=output)\n",
        "\n",
        "    return pre_trained_model"
      ]
    },
    {
      "cell_type": "markdown",
      "metadata": {
        "id": "0DDO3MlMYRYf"
      },
      "source": [
        "Adding Fine Tuning\n",
        "* This function un-freezes the top layers of the base model."
      ]
    },
    {
      "cell_type": "code",
      "execution_count": 8,
      "metadata": {
        "id": "w9uVNSRWYRYf"
      },
      "outputs": [],
      "source": [
        "def add_fine_tuning(base_model):\n",
        "    # Set the base_model as trainable\n",
        "    base_model.trainable = True\n",
        "\n",
        "    # Print the number of layers in the base_model\n",
        "    print(f\"Number of Layers In the Base Model: {len(base_model.layers)}\")\n",
        "\n",
        "    # Specify the layer index from which fine-tuning will start\n",
        "    fine_tune_from = -70\n",
        "\n",
        "    # Iterate through the layers of the base_model\n",
        "    # and set them as non-trainable up to the fine_tune_from index\n",
        "    for layer in base_model.layers[:fine_tune_from]:\n",
        "        layer.trainable = False"
      ]
    },
    {
      "cell_type": "markdown",
      "metadata": {
        "id": "hP2lB1PQYRYf"
      },
      "source": [
        "Try Different Epochs and Learning Rates\n",
        "* Compile and Train the Model for each Epoch and Learning Rate.\n",
        "\n",
        "* Plot Graphs of the Training and Validation Accuracy and Loss vs Epochs.\n",
        "\n",
        "* It is critical to only do fine tuning after the model with frozen layers has been trained to convergence.\n",
        "  If you mix randomly-initialized trainable layers with trainable layers that hold pre-trained features,\n",
        "  the randomly-initialized layers will cause very large gradient updates during training, which will destroy your pre-trained features.\n",
        "\n",
        "* It's also critical to use a very low learning rate at this stage, because you are training a much larger model than in the first round of training, on a dataset that is typically very small. As a result, you are at risk of overfitting very quickly if you apply large weight updates. Here, you only want to readapt the pretrained weights in an incremental way."
      ]
    },
    {
      "cell_type": "code",
      "execution_count": 9,
      "metadata": {
        "colab": {
          "base_uri": "https://localhost:8080/",
          "height": 1000
        },
        "id": "WzUzkm9pYRYf",
        "outputId": "d69fdfd1-d57e-4bae-dbd6-7441d473795c"
      },
      "outputs": [
        {
          "output_type": "stream",
          "name": "stdout",
          "text": [
            "Downloading data from https://storage.googleapis.com/tensorflow/keras-applications/resnet/resnet50v2_weights_tf_dim_ordering_tf_kernels_notop.h5\n",
            "94668760/94668760 [==============================] - 5s 0us/step\n",
            "Epoch 1/10\n",
            "328/328 [==============================] - 3045s 9s/step - loss: 0.2380 - accuracy: 0.8976 - val_loss: 0.1826 - val_accuracy: 0.9143 - lr: 1.0000e-04\n",
            "Epoch 2/10\n",
            "328/328 [==============================] - 147s 447ms/step - loss: 0.1650 - accuracy: 0.9392 - val_loss: 0.1142 - val_accuracy: 0.9714 - lr: 1.0000e-04\n",
            "Epoch 3/10\n",
            "328/328 [==============================] - 147s 446ms/step - loss: 0.1516 - accuracy: 0.9464 - val_loss: 0.0962 - val_accuracy: 0.9714 - lr: 1.0000e-04\n",
            "Epoch 4/10\n",
            "328/328 [==============================] - 147s 445ms/step - loss: 0.1387 - accuracy: 0.9494 - val_loss: 0.1150 - val_accuracy: 0.9714 - lr: 1.0000e-04\n",
            "Epoch 5/10\n",
            "329/328 [==============================] - ETA: 0s - loss: 0.1330 - accuracy: 0.9485\n",
            "Epoch 5: ReduceLROnPlateau reducing learning rate to 1.9999999494757503e-05.\n",
            "328/328 [==============================] - 145s 442ms/step - loss: 0.1330 - accuracy: 0.9485 - val_loss: 0.1221 - val_accuracy: 0.9714 - lr: 1.0000e-04\n",
            "Epoch 6/10\n",
            "328/328 [==============================] - 146s 445ms/step - loss: 0.1264 - accuracy: 0.9515 - val_loss: 0.1128 - val_accuracy: 0.9714 - lr: 2.0000e-05\n",
            "Epoch 7/10\n",
            "329/328 [==============================] - ETA: 0s - loss: 0.1212 - accuracy: 0.9544\n",
            "Epoch 7: ReduceLROnPlateau reducing learning rate to 3.999999898951501e-06.\n",
            "328/328 [==============================] - 147s 447ms/step - loss: 0.1212 - accuracy: 0.9544 - val_loss: 0.1114 - val_accuracy: 0.9714 - lr: 2.0000e-05\n",
            "Epoch 8/10\n",
            "328/328 [==============================] - 148s 449ms/step - loss: 0.1215 - accuracy: 0.9555 - val_loss: 0.1085 - val_accuracy: 0.9714 - lr: 4.0000e-06\n",
            "Epoch 9/10\n",
            "329/328 [==============================] - ETA: 0s - loss: 0.1197 - accuracy: 0.9567\n",
            "Epoch 9: ReduceLROnPlateau reducing learning rate to 7.999999979801942e-07.\n",
            "328/328 [==============================] - 146s 443ms/step - loss: 0.1197 - accuracy: 0.9567 - val_loss: 0.1057 - val_accuracy: 0.9714 - lr: 4.0000e-06\n",
            "Epoch 10/10\n",
            "328/328 [==============================] - 147s 446ms/step - loss: 0.1222 - accuracy: 0.9552 - val_loss: 0.1071 - val_accuracy: 0.9714 - lr: 8.0000e-07\n",
            "Number of Layers In the Base Model: 190\n",
            "Epoch 10/20\n",
            "328/328 [==============================] - 162s 466ms/step - loss: 0.1335 - accuracy: 0.9506 - val_loss: 0.1588 - val_accuracy: 0.9429 - lr: 1.0000e-05\n",
            "Epoch 11/20\n",
            "328/328 [==============================] - 148s 450ms/step - loss: 0.0953 - accuracy: 0.9628 - val_loss: 0.1838 - val_accuracy: 0.9619 - lr: 1.0000e-05\n",
            "Epoch 12/20\n",
            "328/328 [==============================] - 148s 449ms/step - loss: 0.0823 - accuracy: 0.9711 - val_loss: 0.0944 - val_accuracy: 0.9524 - lr: 1.0000e-05\n",
            "Epoch 13/20\n",
            "328/328 [==============================] - 149s 452ms/step - loss: 0.0702 - accuracy: 0.9759 - val_loss: 0.0987 - val_accuracy: 0.9619 - lr: 1.0000e-05\n",
            "Epoch 14/20\n",
            "329/328 [==============================] - ETA: 0s - loss: 0.0621 - accuracy: 0.9793\n",
            "Epoch 14: ReduceLROnPlateau reducing learning rate to 1.9999999494757505e-06.\n",
            "328/328 [==============================] - 150s 454ms/step - loss: 0.0621 - accuracy: 0.9793 - val_loss: 0.1328 - val_accuracy: 0.9524 - lr: 1.0000e-05\n",
            "Epoch 15/20\n",
            "328/328 [==============================] - 146s 444ms/step - loss: 0.0430 - accuracy: 0.9863 - val_loss: 0.2064 - val_accuracy: 0.9524 - lr: 2.0000e-06\n",
            "Epoch 16/20\n",
            "329/328 [==============================] - ETA: 0s - loss: 0.0410 - accuracy: 0.9861\n",
            "Epoch 16: ReduceLROnPlateau reducing learning rate to 3.999999989900971e-07.\n",
            "328/328 [==============================] - 148s 448ms/step - loss: 0.0410 - accuracy: 0.9861 - val_loss: 0.1840 - val_accuracy: 0.9524 - lr: 2.0000e-06\n",
            "Epoch 17/20\n",
            "328/328 [==============================] - 149s 452ms/step - loss: 0.0337 - accuracy: 0.9886 - val_loss: 0.1949 - val_accuracy: 0.9524 - lr: 4.0000e-07\n",
            "Epoch 18/20\n",
            "329/328 [==============================] - ETA: 0s - loss: 0.0303 - accuracy: 0.9899\n",
            "Epoch 18: ReduceLROnPlateau reducing learning rate to 8.00000009348878e-08.\n",
            "328/328 [==============================] - 145s 441ms/step - loss: 0.0303 - accuracy: 0.9899 - val_loss: 0.1992 - val_accuracy: 0.9524 - lr: 4.0000e-07\n",
            "Epoch 19/20\n",
            "328/328 [==============================] - 146s 444ms/step - loss: 0.0290 - accuracy: 0.9894 - val_loss: 0.2065 - val_accuracy: 0.9524 - lr: 8.0000e-08\n",
            "Epoch 20/20\n",
            "329/328 [==============================] - ETA: 0s - loss: 0.0298 - accuracy: 0.9911\n",
            "Epoch 20: ReduceLROnPlateau reducing learning rate to 1.5999999902760466e-08.\n",
            "328/328 [==============================] - 145s 441ms/step - loss: 0.0298 - accuracy: 0.9911 - val_loss: 0.2049 - val_accuracy: 0.9524 - lr: 8.0000e-08\n",
            "Test Loss: 0.06418504565954208\n",
            "Test Accuracy: 0.9836400747299194\n"
          ]
        },
        {
          "output_type": "display_data",
          "data": {
            "text/plain": [
              "<Figure size 1200x500 with 2 Axes>"
            ],
            "image/png": "[encoded data removed]"
          },
          "metadata": {}
        }
      ],
      "source": [
        "Epochs = 20\n",
        "lr= 0.0001\n",
        "Patiences = [2, 4, 7, 9]\n",
        "\n",
        "lr_epoch_test_acc = {}\n",
        "lr_epoch_test_loss = {}\n",
        "\n",
        "initial_epochs = Epochs//2\n",
        "opt_name= RMSprop.__name__\n",
        "\n",
        "for Patience in Patiences:\n",
        "    base_model = create_base_model()\n",
        "    model = get_pre_trained_model(base_model)\n",
        "    # Training the model with all layers frozen\n",
        "    model.compile(loss='binary_crossentropy',\n",
        "                optimizer = RMSprop(learning_rate=lr), metrics='accuracy')\n",
        "\n",
        "    early_stop = EarlyStopping(\n",
        "        monitor='val_loss',\n",
        "        patience=Patience,\n",
        "        min_delta=1e-7,\n",
        "        restore_best_weights=False,\n",
        "    )\n",
        "\n",
        "    learning_rate_reduction = ReduceLROnPlateau(\n",
        "        monitor='val_loss',\n",
        "        factor = 0.2,\n",
        "        patience = 2,\n",
        "        min_delt = 1e-10,\n",
        "        cooldown = 0,\n",
        "        verbose = 1\n",
        "    )\n",
        "    history = model.fit(ds_train,\n",
        "                        batch_size=BATCH, epochs=initial_epochs,\n",
        "                        validation_data=ds_val,\n",
        "                        callbacks=[learning_rate_reduction, early_stop],\n",
        "                        steps_per_epoch=(len(df_train)/BATCH),\n",
        "                        validation_steps=(len(df_val)/BATCH))\n",
        "    # Evaluate the Accuracy and Loss (Before Fine Tuning)\n",
        "    train_acc = history.history['accuracy']\n",
        "    train_loss = history.history['loss']\n",
        "    val_acc = history.history['val_accuracy']\n",
        "    val_loss = history.history['val_loss']\n",
        "\n",
        "    # adding fine tuning\n",
        "    add_fine_tuning(base_model)\n",
        "    model.compile(loss='binary_crossentropy',\n",
        "                optimizer = RMSprop(learning_rate=lr/10), metrics='accuracy')\n",
        "    history_fine = model.fit(ds_train,\n",
        "                            batch_size=BATCH,\n",
        "                            epochs=Epochs,\n",
        "                            initial_epoch=history.epoch[-1],\n",
        "                            validation_data=ds_val,\n",
        "                            callbacks=[learning_rate_reduction, early_stop],\n",
        "                            steps_per_epoch=(len(df_train)/BATCH),\n",
        "                            validation_steps=(len(df_val)/BATCH))\n",
        "    # Evaluate the Accuracy and Loss (After Fine Tuning):\n",
        "\n",
        "    test_loss, test_accuracy = model.evaluate(ds_test, verbose=0)\n",
        "    lr_epoch_tuple = (Epochs, lr)\n",
        "    lr_epoch_test_acc[lr_epoch_tuple] = test_accuracy\n",
        "    lr_epoch_test_loss[lr_epoch_tuple] = test_loss\n",
        "    print(\"Test Loss:\", test_loss)\n",
        "    print(\"Test Accuracy:\", test_accuracy)\n",
        "\n",
        "    train_acc += history_fine.history['accuracy']\n",
        "    val_acc += history_fine.history['val_accuracy']\n",
        "    train_loss += history_fine.history['loss']\n",
        "    val_loss += history_fine.history['val_loss']\n",
        "    epochs = range(1, len(train_acc) + 1)\n",
        "\n",
        "    # Create a figure and subplot\n",
        "    fig, axs = plt.subplots(1, 2, figsize=(12, 5))\n",
        "\n",
        "    # Plot the training and validation accuracy\n",
        "    axs[0].plot(train_acc, 'bo-', label='Training Accuracy')\n",
        "    axs[0].plot(val_acc, 'ro-', label='Validation Accuracy')\n",
        "    axs[0].set_title(f'Accuracy vs. Epochs with opt={opt_name},\\n lr={lr}, Epochs={Epochs}, patience={Patience}', wrap=True)\n",
        "    axs[0].legend(loc='lower right')\n",
        "    axs[0].set_xlabel(\"Epochs\")\n",
        "    axs[0].set_ylabel(\"Accuracy\")\n",
        "\n",
        "    # Plot the training and validation loss\n",
        "    axs[1].plot(train_loss, 'bo-', label='Training Loss')\n",
        "    axs[1].plot(val_loss, 'ro-', label='Validation Loss')\n",
        "    axs[1].set_title(f'Loss vs. Epochs with opt={opt_name},\\n lr={lr}, Epochs={Epochs}, patience={Patience}', wrap=True)\n",
        "    axs[1].legend(loc='upper right')\n",
        "    axs[1].set_xlabel(\"Epochs\")\n",
        "    axs[1].set_ylabel(\"Loss\")\n",
        "\n",
        "    # Adjust spacing between subplots\n",
        "    plt.subplots_adjust(wspace=0.2)\n",
        "\n",
        "    plt.show()\n"
      ]
    },
    {
      "cell_type": "markdown",
      "metadata": {
        "id": "-wLn_exmYRYf"
      },
      "source": [
        "Print the Loss & Accuracy Dictionaries"
      ]
    },
    {
      "cell_type": "code",
      "execution_count": 10,
      "metadata": {
        "id": "0rsrvSRlYRYf",
        "colab": {
          "base_uri": "https://localhost:8080/"
        },
        "outputId": "5ec5d9b9-7f0b-40ae-f7a9-f27bcd98003f"
      },
      "outputs": [
        {
          "output_type": "stream",
          "name": "stdout",
          "text": [
            "Test Accuracy and Loss Results with Optimizer: RMSprop\n",
            "\n",
            "\n",
            "Print Accuracy Results\n",
            "Epochs Number = 20, Learning Rate = 0.0001, Accuracy = 0.984\n",
            "\n",
            "\n",
            "Print Loss Results\n",
            "Epochs Number = 20, Learning Rate = 0.0001, Loss = 0.064\n"
          ]
        }
      ],
      "source": [
        "print(f\"Test Accuracy and Loss Results with Optimizer: {opt_name}\")\n",
        "print()\n",
        "print()\n",
        "def print_results_dict(Accuracy, Loss):\n",
        "    print(\"Print Accuracy Results\")\n",
        "    for key, val in Accuracy.items():\n",
        "        epochs, lr = key\n",
        "        print(f\"Epochs Number = {epochs}, Learning Rate = {lr}, Accuracy = {val:.3f}\")\n",
        "    print()\n",
        "    print()\n",
        "    print(\"Print Loss Results\")\n",
        "    for key, val in Loss.items():\n",
        "        epochs, lr = key\n",
        "        print(f\"Epochs Number = {epochs}, Learning Rate = {lr}, Loss = {val:.3f}\")\n",
        "\n",
        "\n",
        "print_results_dict(lr_epoch_test_acc, lr_epoch_test_loss)"
      ]
    }
  ],
  "metadata": {
    "accelerator": "GPU",
    "colab": {
      "gpuType": "T4",
      "provenance": []
    },
    "kernelspec": {
      "display_name": "Python 3",
      "name": "python3"
    },
    "language_info": {
      "name": "python",
      "version": "3.11.0"
    }
  },
  "nbformat": 4,
  "nbformat_minor": 0
}