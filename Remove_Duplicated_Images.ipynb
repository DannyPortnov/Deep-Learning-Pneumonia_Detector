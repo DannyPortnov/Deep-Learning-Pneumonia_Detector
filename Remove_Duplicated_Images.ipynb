{
  "nbformat": 4,
  "nbformat_minor": 0,
  "metadata": {
    "colab": {
      "provenance": []
    },
    "kernelspec": {
      "name": "python3",
      "display_name": "Python 3"
    },
    "language_info": {
      "name": "python"
    }
  },
  "cells": [
    {
      "cell_type": "code",
      "source": [
        "from google.colab import drive\n",
        "drive.mount('/content/drive')"
      ],
      "metadata": {
        "colab": {
          "base_uri": "https://localhost:8080/"
        },
        "id": "X_O181Sb8_Ub",
        "outputId": "c0e187d9-8d68-4c1e-d517-86ceecf59eca"
      },
      "execution_count": null,
      "outputs": [
        {
          "output_type": "stream",
          "name": "stdout",
          "text": [
            "Mounted at /content/drive\n"
          ]
        }
      ]
    },
    {
      "cell_type": "code",
      "source": [
        "import os\n",
        "import glob"
      ],
      "metadata": {
        "id": "dQDrTOn28gbc"
      },
      "execution_count": null,
      "outputs": []
    },
    {
      "cell_type": "code",
      "source": [
        "normal_dataset = glob.glob('/content/drive/MyDrive/Deep Learning Project/chest_xray/NORMAL/*.jpeg')\n",
        "pneumonia_dataset = glob.glob('/content/drive/MyDrive/Deep Learning Project/chest_xray/PNEUMONIA/*.jpeg')\n",
        "virus_dataset = list(filter(lambda x: 'virus' in x, pneumonia_dataset))\n",
        "bacterial_dataset = list(filter(lambda x: 'bacteria' in x, pneumonia_dataset))\n",
        "\n",
        "print(\"Check Data Before\")\n",
        "print(len(normal_dataset))\n",
        "print(len(pneumonia_dataset))\n",
        "print(len(virus_dataset))\n",
        "print(len(bacterial_dataset))\n",
        "\n",
        "total_len = len(normal_dataset) + len(virus_dataset) + len(bacterial_dataset)\n",
        "print(total_len)"
      ],
      "metadata": {
        "colab": {
          "base_uri": "https://localhost:8080/"
        },
        "id": "2ZTL_y1G8vAj",
        "outputId": "8eeb3026-fff0-4735-9160-18c9d68e40a2"
      },
      "execution_count": null,
      "outputs": [
        {
          "output_type": "stream",
          "name": "stdout",
          "text": [
            "Check Data Before\n",
            "1583\n",
            "4273\n",
            "1493\n",
            "2780\n",
            "5856\n"
          ]
        }
      ]
    },
    {
      "cell_type": "markdown",
      "source": [
        "I noticed that google drive created duplicated images so we want to remove them to prevent chance for overfitting\n",
        "\n"
      ],
      "metadata": {
        "id": "-zR9u8Z88h0t"
      }
    },
    {
      "cell_type": "code",
      "execution_count": null,
      "metadata": {
        "colab": {
          "base_uri": "https://localhost:8080/"
        },
        "id": "nu-NO_Q38bR_",
        "outputId": "42f9f1c2-fd78-4bf3-dc74-7938af6c6115"
      },
      "outputs": [
        {
          "output_type": "stream",
          "name": "stdout",
          "text": [
            "Check Amount of Data After\n",
            "1583\n",
            "4273\n",
            "1493\n",
            "2780\n",
            "5856\n"
          ]
        }
      ],
      "source": [
        "def remove_duplicated_img(dataset):\n",
        "  for img in dataset:\n",
        "    for i in range(8):\n",
        "      if f\"({i})\" in img:\n",
        "        dataset.remove(img)\n",
        "        # If file exists, delete it.\n",
        "        if os.path.isfile(img):\n",
        "          print(img)\n",
        "          # os.remove(img)\n",
        "\n",
        "\n",
        "for i in range(5):\n",
        "  remove_duplicated_img(normal_dataset)\n",
        "  remove_duplicated_img(pneumonia_dataset)\n",
        "  remove_duplicated_img(virus_dataset)\n",
        "  remove_duplicated_img(bacterial_dataset)\n",
        "\n",
        "print(\"Check Amount of Data After\")\n",
        "print(len(normal_dataset))\n",
        "print(len(pneumonia_dataset))\n",
        "print(len(virus_dataset))\n",
        "print(len(bacterial_dataset))\n",
        "\n",
        "total_len = len(normal_dataset) + len(virus_dataset) + len(bacterial_dataset)\n",
        "print(total_len)"
      ]
    },
    {
      "cell_type": "code",
      "source": [
        "for img in pneumonia_dataset:\n",
        "  if img not in virus_dataset and img not in bacterial_dataset:\n",
        "    print(img)"
      ],
      "metadata": {
        "colab": {
          "base_uri": "https://localhost:8080/"
        },
        "id": "guw5yrZDAJca",
        "outputId": "2aa9beba-21b3-498d-d8a7-dd54074df8a8"
      },
      "execution_count": null,
      "outputs": [
        {
          "output_type": "stream",
          "name": "stdout",
          "text": [
            "/content/drive/MyDrive/Deep Learning Project/chest_xray/PNEUMONIA/person1729_bacteria_4557 (1).jpeg\n",
            "/content/drive/MyDrive/Deep Learning Project/chest_xray/PNEUMONIA/person1728_bacteria_4556 (1).jpeg\n",
            "/content/drive/MyDrive/Deep Learning Project/chest_xray/PNEUMONIA/person1723_bacteria_4548 (1).jpeg\n",
            "/content/drive/MyDrive/Deep Learning Project/chest_xray/PNEUMONIA/person1725_bacteria_4550 (1).jpeg\n",
            "/content/drive/MyDrive/Deep Learning Project/chest_xray/PNEUMONIA/person1721_bacteria_4546 (1).jpeg\n",
            "/content/drive/MyDrive/Deep Learning Project/chest_xray/PNEUMONIA/person1726_bacteria_4552 (1).jpeg\n",
            "/content/drive/MyDrive/Deep Learning Project/chest_xray/PNEUMONIA/person1724_bacteria_4549 (1).jpeg\n",
            "/content/drive/MyDrive/Deep Learning Project/chest_xray/PNEUMONIA/person1725_bacteria_4551 (1).jpeg\n",
            "/content/drive/MyDrive/Deep Learning Project/chest_xray/PNEUMONIA/person1728_bacteria_4555 (1).jpeg\n",
            "/content/drive/MyDrive/Deep Learning Project/chest_xray/PNEUMONIA/person1722_bacteria_4547 (1).jpeg\n"
          ]
        }
      ]
    }
  ]
}