{
  "cells": [
    {
      "cell_type": "code",
      "execution_count": 1,
      "metadata": {
        "colab": {
          "base_uri": "https://localhost:8080/"
        },
        "id": "GhS3l6TBIFsH",
        "outputId": "1514a072-4168-4a5e-9fe5-58362af55186"
      },
      "outputs": [
        {
          "output_type": "stream",
          "name": "stdout",
          "text": [
            "Mounted at /content/drive\n"
          ]
        }
      ],
      "source": [
        "from google.colab import drive\n",
        "drive.mount('/content/drive')"
      ]
    },
    {
      "cell_type": "code",
      "execution_count": 2,
      "metadata": {
        "id": "yWpejyuoUk6K"
      },
      "outputs": [],
      "source": [
        "import matplotlib.pyplot as plt\n",
        "import matplotlib.ticker as ticker\n",
        "import numpy as np  # linear algebra\n",
        "import pandas as pd  # data processing, CSV file I/O (e.g. pd.read_csv)\n",
        "import glob\n",
        "import keras\n",
        "import tensorflow as tf\n",
        "from keras.applications import ResNet152V2, ResNet50V2\n",
        "from keras.optimizers import Adam, SGD, RMSprop\n",
        "from keras.layers import Dense, GlobalAveragePooling2D, Flatten, Dropout, Input\n",
        "from keras.callbacks import ReduceLROnPlateau, EarlyStopping\n",
        "from keras.preprocessing.image import ImageDataGenerator\n",
        "from sklearn.model_selection import train_test_split\n",
        "from sklearn.metrics import precision_score, recall_score, f1_score\n",
        "from sklearn.utils import shuffle"
      ]
    },
    {
      "cell_type": "markdown",
      "metadata": {
        "id": "9pbmLwWSvE4B"
      },
      "source": [
        "Generate Data From chest_xray Folder:\n",
        "* Here we split the data in a way that we have bacteria, virus and normal images. in the proper way- some of each and not in a total randomize way\n",
        "* TODO: Need to chek why the depth of the image is 3 and not 1 as in regular cnn network"
      ]
    },
    {
      "cell_type": "code",
      "execution_count": 3,
      "metadata": {
        "id": "TL9X4ZyOvE4D"
      },
      "outputs": [],
      "source": [
        "# IMG_SIZE = 150\n",
        "IMG_DEPTH = 3\n",
        "IMG_SIZE = 224\n",
        "BATCH = 16\n",
        "SEED = 42\n",
        "\n",
        "normal_dataset = glob.glob('/content/drive/MyDrive/Deep Learning Project/chest_xray/NORMAL/*.jpeg')\n",
        "pneumonia_dataset = glob.glob('/content/drive/MyDrive/Deep Learning Project/chest_xray/PNEUMONIA/*.jpeg')\n",
        "virus_dataset = list(filter(lambda x: 'virus' in x, pneumonia_dataset))\n",
        "bacterial_dataset = list(filter(lambda x: 'bacteria' in x, pneumonia_dataset))\n"
      ]
    },
    {
      "cell_type": "markdown",
      "metadata": {
        "id": "M5SSJHHUvE4E"
      },
      "source": [
        "Generate Train, Validation and Test Sets:"
      ]
    },
    {
      "cell_type": "code",
      "execution_count": 4,
      "metadata": {
        "id": "C9aO3WVpvE4E"
      },
      "outputs": [],
      "source": [
        "def split_data(dataSet, testSize, valSize):\n",
        "    train, test= train_test_split(dataSet, test_size=testSize, random_state=SEED, shuffle=True)\n",
        "    train, val= train_test_split(train, test_size=valSize, random_state=SEED, shuffle=True)\n",
        "    return train, test, val\n",
        "\n",
        "\n",
        "train_normal, test_normal, val_normal = split_data(normal_dataset, 0.15, 0.038)\n",
        "train_bacterial, test_bacterial, val_bacterial = split_data(bacterial_dataset, 0.05, 0.0095)\n",
        "train_virus, test_virus, val_virus = split_data(virus_dataset, 0.075, 0.019)\n",
        "\n",
        "\n",
        "\n",
        "train = [x for x in train_normal]\n",
        "train.extend([x for x in train_bacterial])\n",
        "train.extend([x for x in train_virus])\n",
        "\n",
        "test = [x for x in test_normal]\n",
        "test.extend([x for x in test_bacterial])\n",
        "test.extend([x for x in test_virus])\n",
        "\n",
        "val = [x for x in val_normal]\n",
        "val.extend([x for x in val_bacterial])\n",
        "val.extend([x for x in val_virus])\n",
        "\n",
        "df_train = pd.DataFrame(np.concatenate([['Normal']*(len(train_normal)) , ['Pneumonia']*(len(train_bacterial) + len(train_virus))]), columns = ['class'])\n",
        "df_train['image'] = [x for x in train]\n",
        "\n",
        "df_val = pd.DataFrame(np.concatenate([['Normal']*(len(val_normal)) , ['Pneumonia']*(len(val_bacterial) + len(val_virus))]), columns = ['class'])\n",
        "df_val['image'] = [x for x in val]\n",
        "\n",
        "df_test = pd.DataFrame(np.concatenate([['Normal']*len(test_normal) , ['Pneumonia']*(len(test_bacterial) + len(test_virus))]), columns = ['class'])\n",
        "df_test['image'] = [x for x in test]\n",
        "\n"
      ]
    },
    {
      "cell_type": "markdown",
      "metadata": {
        "id": "_mrtsNptvE4F"
      },
      "source": [
        "Perform Data Augmentation on Each Set:\n",
        "* TODO: Need to check why we are doing data augmentation on all 3 sets\n",
        "  and not just on the training set as in the regular cnn network."
      ]
    },
    {
      "cell_type": "code",
      "execution_count": 5,
      "metadata": {
        "colab": {
          "base_uri": "https://localhost:8080/"
        },
        "id": "0hw5N1XPvE4F",
        "outputId": "c8e98539-e60e-410b-deaa-ee7334b6c991"
      },
      "outputs": [
        {
          "output_type": "stream",
          "name": "stdout",
          "text": [
            "Found 5262 validated image filenames belonging to 2 classes.\n",
            "Found 105 validated image filenames belonging to 2 classes.\n",
            "Found 489 validated image filenames belonging to 2 classes.\n"
          ]
        }
      ],
      "source": [
        "\n",
        "# With data augmentation to prevent overfitting and handling the imbalance in dataset\n",
        "# Because the dataset is small we \"increase\" the dataset by change of images parameters.\n",
        "# In this way we increase our dataset and prevent overfitting.\n",
        "\n",
        "train_datagen = ImageDataGenerator(rescale=1/255.,\n",
        "                                  zoom_range = 0.1,\n",
        "                                  #rotation_range = 0.1,\n",
        "                                  width_shift_range = 0.1,\n",
        "                                  height_shift_range = 0.1)\n",
        "\n",
        "test_datagen = ImageDataGenerator(rescale=1/255.)\n",
        "\n",
        "ds_train = train_datagen.flow_from_dataframe(df_train,\n",
        "                                             #directory=train_path, #dataframe contains the full paths\n",
        "                                             x_col = 'image',\n",
        "                                             y_col = 'class',\n",
        "                                             target_size = (IMG_SIZE, IMG_SIZE),\n",
        "                                             class_mode = 'binary',\n",
        "                                             batch_size = BATCH,\n",
        "                                             seed = SEED)\n",
        "\n",
        "ds_val = test_datagen.flow_from_dataframe(df_val,\n",
        "                                            #directory=train_path,\n",
        "                                            x_col = 'image',\n",
        "                                            y_col = 'class',\n",
        "                                            target_size = (IMG_SIZE, IMG_SIZE),\n",
        "                                            class_mode = 'binary',\n",
        "                                            batch_size = BATCH,\n",
        "                                            seed = SEED)\n",
        "\n",
        "ds_test = test_datagen.flow_from_dataframe(df_test,\n",
        "                                            #directory=test_path,\n",
        "                                            x_col = 'image',\n",
        "                                            y_col = 'class',\n",
        "                                            target_size = (IMG_SIZE, IMG_SIZE),\n",
        "                                            class_mode = 'binary',\n",
        "                                            batch_size = 1,\n",
        "                                            shuffle = False)"
      ]
    },
    {
      "cell_type": "markdown",
      "metadata": {
        "id": "m1ZfHeXdvE4G"
      },
      "source": [
        "# Building CNN Network- Transfer Learning with Fine Tuning"
      ]
    },
    {
      "cell_type": "markdown",
      "metadata": {
        "id": "0YeWjMgSvE4G"
      },
      "source": [
        "Create and Freeze the Base Model and Get the Pre-Trained Model\n",
        "* This function creates a base model and freezeing all of its layers."
      ]
    },
    {
      "cell_type": "code",
      "execution_count": 6,
      "metadata": {
        "id": "EvU9I8KHvE4G"
      },
      "outputs": [],
      "source": [
        "def create_base_model():\n",
        "    # --------- create base model ----------#\n",
        "    base_model = ResNet50V2(\n",
        "        weights='imagenet',\n",
        "        input_shape=(IMG_SIZE, IMG_SIZE, IMG_DEPTH),\n",
        "        include_top=False)\n",
        "\n",
        "    # --------- FREEZE base model ----------#\n",
        "    base_model.trainable = False\n",
        "    return base_model\n"
      ]
    },
    {
      "cell_type": "markdown",
      "metadata": {
        "id": "757nylPNvE4H"
      },
      "source": [
        "Get the Pre-Trained Model\n",
        "* If you are creating many models in a loop, this global state will consume\n",
        "  an increasing amount of memory over time, and you may want to clear it.\n",
        "  Calling clear_session() releases the global state: this helps avoid clutter\n",
        "  from old models and layers, especially when memory is limited.\n",
        "* We use: keras.backend.clear_session()"
      ]
    },
    {
      "cell_type": "code",
      "execution_count": 7,
      "metadata": {
        "id": "L3tGSNgqvE4H"
      },
      "outputs": [],
      "source": [
        "def get_pre_trained_model(base_model):\n",
        "    # --------- get pretrained model ----------#\n",
        "    keras.backend.clear_session()\n",
        "\n",
        "    #Input shape = [width, height, color channels]\n",
        "    inputs = Input(shape=(IMG_SIZE, IMG_SIZE, IMG_DEPTH))\n",
        "\n",
        "    x = base_model(inputs, training=False)\n",
        "\n",
        "    # Head\n",
        "    x = GlobalAveragePooling2D()(x)\n",
        "    x = Dense(128, activation='relu')(x)\n",
        "    x = Dropout(0.2)(x)\n",
        "\n",
        "    #Final Layer (Output)\n",
        "    output = Dense(1, activation='sigmoid')(x)\n",
        "\n",
        "    pre_trained_model = keras.Model(inputs=[inputs], outputs=output)\n",
        "\n",
        "    return pre_trained_model"
      ]
    },
    {
      "cell_type": "markdown",
      "metadata": {
        "id": "0LdVOliEvE4H"
      },
      "source": [
        "Adding Fine Tuning\n",
        "* This function un-freezes the top layers of the base model."
      ]
    },
    {
      "cell_type": "code",
      "execution_count": 8,
      "metadata": {
        "id": "IDuvxDukvE4H"
      },
      "outputs": [],
      "source": [
        "def add_fine_tuning(base_model):\n",
        "    # Set the base_model as trainable\n",
        "    base_model.trainable = True\n",
        "\n",
        "    # Print the number of layers in the base_model\n",
        "    print(f\"Number of Layers In the Base Model: {len(base_model.layers)}\")\n",
        "\n",
        "    # Specify the layer index from which fine-tuning will start\n",
        "    fine_tune_from = -70\n",
        "\n",
        "    # Iterate through the layers of the base_model\n",
        "    # and set them as non-trainable up to the fine_tune_from index\n",
        "    for layer in base_model.layers[:fine_tune_from]:\n",
        "        layer.trainable = False"
      ]
    },
    {
      "cell_type": "markdown",
      "metadata": {
        "id": "LjHjuHbcvE4I"
      },
      "source": [
        "Try Different Epochs and Learning Rates\n",
        "* Compile and Train the Model for each Epoch and Learning Rate.\n",
        "\n",
        "* Plot Graphs of the Training and Validation Accuracy and Loss vs Epochs.\n",
        "\n",
        "* It is critical to only do fine tuning after the model with frozen layers has been trained to convergence.\n",
        "  If you mix randomly-initialized trainable layers with trainable layers that hold pre-trained features,\n",
        "  the randomly-initialized layers will cause very large gradient updates during training, which will destroy your pre-trained features.\n",
        "\n",
        "* It's also critical to use a very low learning rate at this stage, because you are training a much larger model than in the first round of training, on a dataset that is typically very small. As a result, you are at risk of overfitting very quickly if you apply large weight updates. Here, you only want to readapt the pretrained weights in an incremental way."
      ]
    },
    {
      "cell_type": "code",
      "execution_count": 10,
      "metadata": {
        "colab": {
          "base_uri": "https://localhost:8080/",
          "height": 1000
        },
        "id": "kfWrj1HLvE4I",
        "outputId": "5d204a24-84a9-4385-8823-deda7ff994f1"
      },
      "outputs": [
        {
          "output_type": "stream",
          "name": "stdout",
          "text": [
            "Epoch 1/20\n",
            "328/328 [==============================] - 391s 1s/step - loss: 0.2453 - accuracy: 0.9002 - val_loss: 0.2006 - val_accuracy: 0.9524 - lr: 0.0010\n",
            "Epoch 2/20\n",
            "328/328 [==============================] - 122s 372ms/step - loss: 0.1771 - accuracy: 0.9274 - val_loss: 0.1956 - val_accuracy: 0.9524 - lr: 0.0010\n",
            "Epoch 3/20\n",
            "328/328 [==============================] - 122s 370ms/step - loss: 0.1590 - accuracy: 0.9401 - val_loss: 0.1882 - val_accuracy: 0.9619 - lr: 0.0010\n",
            "Epoch 4/20\n",
            "328/328 [==============================] - 121s 369ms/step - loss: 0.1512 - accuracy: 0.9409 - val_loss: 0.1985 - val_accuracy: 0.9429 - lr: 0.0010\n",
            "Epoch 5/20\n",
            "328/328 [==============================] - 123s 375ms/step - loss: 0.1430 - accuracy: 0.9436 - val_loss: 0.1870 - val_accuracy: 0.9524 - lr: 0.0010\n",
            "Epoch 6/20\n",
            "328/328 [==============================] - 122s 370ms/step - loss: 0.1380 - accuracy: 0.9447 - val_loss: 0.1757 - val_accuracy: 0.9619 - lr: 0.0010\n",
            "Epoch 7/20\n",
            "328/328 [==============================] - 119s 361ms/step - loss: 0.1340 - accuracy: 0.9479 - val_loss: 0.1684 - val_accuracy: 0.9619 - lr: 0.0010\n",
            "Epoch 8/20\n",
            "328/328 [==============================] - 120s 364ms/step - loss: 0.1343 - accuracy: 0.9512 - val_loss: 0.1702 - val_accuracy: 0.9619 - lr: 0.0010\n",
            "Epoch 9/20\n",
            "328/328 [==============================] - 118s 360ms/step - loss: 0.1279 - accuracy: 0.9529 - val_loss: 0.1626 - val_accuracy: 0.9714 - lr: 0.0010\n",
            "Epoch 10/20\n",
            "328/328 [==============================] - 118s 358ms/step - loss: 0.1242 - accuracy: 0.9534 - val_loss: 0.1747 - val_accuracy: 0.9714 - lr: 0.0010\n",
            "Epoch 11/20\n",
            "329/328 [==============================] - ETA: 0s - loss: 0.1194 - accuracy: 0.9569\n",
            "Epoch 11: ReduceLROnPlateau reducing learning rate to 0.00020000000949949026.\n",
            "328/328 [==============================] - 118s 360ms/step - loss: 0.1194 - accuracy: 0.9569 - val_loss: 0.1670 - val_accuracy: 0.9619 - lr: 0.0010\n",
            "Epoch 12/20\n",
            "328/328 [==============================] - 117s 357ms/step - loss: 0.1135 - accuracy: 0.9567 - val_loss: 0.1603 - val_accuracy: 0.9619 - lr: 2.0000e-04\n",
            "Epoch 13/20\n",
            "328/328 [==============================] - 119s 362ms/step - loss: 0.1153 - accuracy: 0.9555 - val_loss: 0.1593 - val_accuracy: 0.9619 - lr: 2.0000e-04\n",
            "Epoch 14/20\n",
            "328/328 [==============================] - 118s 360ms/step - loss: 0.1112 - accuracy: 0.9572 - val_loss: 0.1594 - val_accuracy: 0.9619 - lr: 2.0000e-04\n",
            "Epoch 15/20\n",
            "329/328 [==============================] - ETA: 0s - loss: 0.1152 - accuracy: 0.9544\n",
            "Epoch 15: ReduceLROnPlateau reducing learning rate to 4.0000001899898055e-05.\n",
            "328/328 [==============================] - 119s 363ms/step - loss: 0.1152 - accuracy: 0.9544 - val_loss: 0.1597 - val_accuracy: 0.9714 - lr: 2.0000e-04\n",
            "Epoch 16/20\n",
            "328/328 [==============================] - 118s 358ms/step - loss: 0.1120 - accuracy: 0.9607 - val_loss: 0.1585 - val_accuracy: 0.9619 - lr: 4.0000e-05\n",
            "Epoch 17/20\n",
            "328/328 [==============================] - 119s 361ms/step - loss: 0.1100 - accuracy: 0.9595 - val_loss: 0.1584 - val_accuracy: 0.9619 - lr: 4.0000e-05\n",
            "Epoch 18/20\n",
            "328/328 [==============================] - 120s 363ms/step - loss: 0.1086 - accuracy: 0.9601 - val_loss: 0.1577 - val_accuracy: 0.9714 - lr: 4.0000e-05\n",
            "Epoch 19/20\n",
            "328/328 [==============================] - 118s 359ms/step - loss: 0.1075 - accuracy: 0.9618 - val_loss: 0.1581 - val_accuracy: 0.9714 - lr: 4.0000e-05\n",
            "Epoch 20/20\n",
            "329/328 [==============================] - ETA: 0s - loss: 0.1078 - accuracy: 0.9614\n",
            "Epoch 20: ReduceLROnPlateau reducing learning rate to 8.000000525498762e-06.\n",
            "328/328 [==============================] - 119s 362ms/step - loss: 0.1078 - accuracy: 0.9614 - val_loss: 0.1589 - val_accuracy: 0.9714 - lr: 4.0000e-05\n",
            "Number of Layers In the Base Model: 190\n",
            "Epoch 20/40\n",
            "328/328 [==============================] - 130s 377ms/step - loss: 0.1081 - accuracy: 0.9580 - val_loss: 0.1592 - val_accuracy: 0.9714 - lr: 1.0000e-04\n",
            "Epoch 21/40\n",
            "328/328 [==============================] - 123s 374ms/step - loss: 0.1018 - accuracy: 0.9609 - val_loss: 0.1593 - val_accuracy: 0.9619 - lr: 1.0000e-04\n",
            "Epoch 22/40\n",
            "329/328 [==============================] - ETA: 0s - loss: 0.0935 - accuracy: 0.9681\n",
            "Epoch 22: ReduceLROnPlateau reducing learning rate to 1.9999999494757503e-05.\n",
            "328/328 [==============================] - 121s 368ms/step - loss: 0.0935 - accuracy: 0.9681 - val_loss: 0.1672 - val_accuracy: 0.9714 - lr: 1.0000e-04\n",
            "Epoch 23/40\n",
            "328/328 [==============================] - 122s 372ms/step - loss: 0.0885 - accuracy: 0.9652 - val_loss: 0.1652 - val_accuracy: 0.9714 - lr: 2.0000e-05\n",
            "Epoch 24/40\n",
            "329/328 [==============================] - ETA: 0s - loss: 0.0903 - accuracy: 0.9669\n",
            "Epoch 24: ReduceLROnPlateau reducing learning rate to 3.999999898951501e-06.\n",
            "328/328 [==============================] - 122s 372ms/step - loss: 0.0903 - accuracy: 0.9669 - val_loss: 0.1644 - val_accuracy: 0.9714 - lr: 2.0000e-05\n",
            "Epoch 25/40\n",
            "328/328 [==============================] - 121s 369ms/step - loss: 0.0826 - accuracy: 0.9705 - val_loss: 0.1642 - val_accuracy: 0.9714 - lr: 4.0000e-06\n",
            "Epoch 26/40\n",
            "329/328 [==============================] - ETA: 0s - loss: 0.0877 - accuracy: 0.9664\n",
            "Epoch 26: ReduceLROnPlateau reducing learning rate to 7.999999979801942e-07.\n",
            "328/328 [==============================] - 122s 371ms/step - loss: 0.0877 - accuracy: 0.9664 - val_loss: 0.1640 - val_accuracy: 0.9714 - lr: 4.0000e-06\n",
            "Epoch 27/40\n",
            "328/328 [==============================] - 121s 366ms/step - loss: 0.0892 - accuracy: 0.9669 - val_loss: 0.1639 - val_accuracy: 0.9714 - lr: 8.0000e-07\n",
            "Epoch 28/40\n",
            "329/328 [==============================] - ETA: 0s - loss: 0.0873 - accuracy: 0.9673\n",
            "Epoch 28: ReduceLROnPlateau reducing learning rate to 1.600000018697756e-07.\n",
            "328/328 [==============================] - 122s 372ms/step - loss: 0.0873 - accuracy: 0.9673 - val_loss: 0.1639 - val_accuracy: 0.9714 - lr: 8.0000e-07\n",
            "Epoch 29/40\n",
            "328/328 [==============================] - 121s 368ms/step - loss: 0.0934 - accuracy: 0.9669 - val_loss: 0.1639 - val_accuracy: 0.9714 - lr: 1.6000e-07\n",
            "Epoch 30/40\n",
            "329/328 [==============================] - ETA: 0s - loss: 0.0847 - accuracy: 0.9666\n",
            "Epoch 30: ReduceLROnPlateau reducing learning rate to 3.199999980552093e-08.\n",
            "328/328 [==============================] - 122s 372ms/step - loss: 0.0847 - accuracy: 0.9666 - val_loss: 0.1639 - val_accuracy: 0.9714 - lr: 1.6000e-07\n",
            "Epoch 31/40\n",
            "328/328 [==============================] - 121s 369ms/step - loss: 0.0830 - accuracy: 0.9709 - val_loss: 0.1639 - val_accuracy: 0.9714 - lr: 3.2000e-08\n",
            "Epoch 32/40\n",
            "329/328 [==============================] - ETA: 0s - loss: 0.0843 - accuracy: 0.9688\n",
            "Epoch 32: ReduceLROnPlateau reducing learning rate to 6.399999818995639e-09.\n",
            "328/328 [==============================] - 121s 367ms/step - loss: 0.0843 - accuracy: 0.9688 - val_loss: 0.1639 - val_accuracy: 0.9714 - lr: 3.2000e-08\n",
            "Epoch 33/40\n",
            "328/328 [==============================] - 121s 368ms/step - loss: 0.0880 - accuracy: 0.9700 - val_loss: 0.1639 - val_accuracy: 0.9714 - lr: 6.4000e-09\n",
            "Epoch 34/40\n",
            "329/328 [==============================] - ETA: 0s - loss: 0.0898 - accuracy: 0.9669\n",
            "Epoch 34: ReduceLROnPlateau reducing learning rate to 1.279999928271991e-09.\n",
            "328/328 [==============================] - 120s 365ms/step - loss: 0.0898 - accuracy: 0.9669 - val_loss: 0.1639 - val_accuracy: 0.9714 - lr: 6.4000e-09\n",
            "Epoch 35/40\n",
            "328/328 [==============================] - 122s 372ms/step - loss: 0.0856 - accuracy: 0.9702 - val_loss: 0.1639 - val_accuracy: 0.9714 - lr: 1.2800e-09\n",
            "Epoch 36/40\n",
            "329/328 [==============================] - ETA: 0s - loss: 0.0833 - accuracy: 0.9694\n",
            "Epoch 36: ReduceLROnPlateau reducing learning rate to 2.55999976772614e-10.\n",
            "328/328 [==============================] - 121s 369ms/step - loss: 0.0833 - accuracy: 0.9694 - val_loss: 0.1639 - val_accuracy: 0.9714 - lr: 1.2800e-09\n",
            "Epoch 37/40\n",
            "328/328 [==============================] - 121s 366ms/step - loss: 0.0898 - accuracy: 0.9679 - val_loss: 0.1639 - val_accuracy: 0.9714 - lr: 2.5600e-10\n",
            "Epoch 38/40\n",
            "329/328 [==============================] - ETA: 0s - loss: 0.0851 - accuracy: 0.9683\n",
            "Epoch 38: ReduceLROnPlateau reducing learning rate to 5.119999424429978e-11.\n",
            "328/328 [==============================] - 121s 368ms/step - loss: 0.0851 - accuracy: 0.9683 - val_loss: 0.1639 - val_accuracy: 0.9714 - lr: 2.5600e-10\n",
            "Epoch 39/40\n",
            "328/328 [==============================] - 120s 365ms/step - loss: 0.0851 - accuracy: 0.9673 - val_loss: 0.1639 - val_accuracy: 0.9714 - lr: 5.1200e-11\n",
            "Epoch 40/40\n",
            "329/328 [==============================] - ETA: 0s - loss: 0.0874 - accuracy: 0.9690\n",
            "Epoch 40: ReduceLROnPlateau reducing learning rate to 1.0239999126415712e-11.\n",
            "328/328 [==============================] - 121s 368ms/step - loss: 0.0874 - accuracy: 0.9690 - val_loss: 0.1639 - val_accuracy: 0.9714 - lr: 5.1200e-11\n",
            "Test Loss: 0.11005788296461105\n",
            "Test Accuracy: 0.9611452221870422\n"
          ]
        },
        {
          "output_type": "display_data",
          "data": {
            "text/plain": [
              "<Figure size 1400x500 with 2 Axes>"
            ],
            "image/png": "[encoded data removed]"
          },
          "metadata": {}
        }
      ],
      "source": [
        "Epochs = [40]\n",
        "learning_rates= [0.001]\n",
        "# learning_rates= [0.0005]\n",
        "# learning_rates= [0.0001]\n",
        "\n",
        "opt = SGD\n",
        "\n",
        "learning_rate_reduction = ReduceLROnPlateau(\n",
        "    monitor='val_loss',\n",
        "    factor = 0.2,\n",
        "    patience = 2,\n",
        "    min_delt = 1e-10,\n",
        "    cooldown = 0,\n",
        "    verbose = 1\n",
        ")\n",
        "\n",
        "lr_epoch_test_acc = {}\n",
        "lr_epoch_test_loss = {}\n",
        "for Epoch in Epochs:\n",
        "  initial_epochs = Epoch//2\n",
        "  for lr in learning_rates:\n",
        "    base_model = create_base_model()\n",
        "    model = get_pre_trained_model(base_model)\n",
        "    # Training the model with all layers frozen\n",
        "    model.compile(loss='binary_crossentropy',\n",
        "                optimizer = opt(learning_rate=lr, momentum=0.9), metrics='accuracy')\n",
        "    # model.summary()\n",
        "    history = model.fit(ds_train,\n",
        "              batch_size=BATCH, epochs=initial_epochs,\n",
        "              validation_data=ds_val,\n",
        "              callbacks=[learning_rate_reduction],\n",
        "              steps_per_epoch=(len(df_train)/BATCH),\n",
        "              validation_steps=(len(df_val)/BATCH))\n",
        "    # Evaluate the Accuracy and Loss (Before Fine Tuning)\n",
        "    train_acc = history.history['accuracy']\n",
        "    train_loss = history.history['loss']\n",
        "    val_acc = history.history['val_accuracy']\n",
        "    val_loss = history.history['val_loss']\n",
        "\n",
        "    # adding fine tuning\n",
        "    add_fine_tuning(base_model)\n",
        "    model.compile(loss='binary_crossentropy',\n",
        "                optimizer = opt(learning_rate=lr/10), metrics='accuracy')\n",
        "    history_fine = model.fit(ds_train,\n",
        "                        batch_size=BATCH,\n",
        "                        epochs=Epoch,\n",
        "                        initial_epoch=history.epoch[-1],\n",
        "                        validation_data=ds_val,\n",
        "                        callbacks=[learning_rate_reduction],\n",
        "                        steps_per_epoch=(len(df_train)/BATCH),\n",
        "                        validation_steps=(len(df_val)/BATCH))\n",
        "    # Evaluate the Accuracy and Loss (After Fine Tuning):\n",
        "\n",
        "    test_loss, test_accuracy = model.evaluate(ds_test, verbose=0)\n",
        "    lr_epoch_tuple = (Epoch, lr)\n",
        "    lr_epoch_test_acc[lr_epoch_tuple] = test_accuracy\n",
        "    lr_epoch_test_loss[lr_epoch_tuple] = test_loss\n",
        "    print(\"Test Loss:\", test_loss)\n",
        "    print(\"Test Accuracy:\", test_accuracy)\n",
        "\n",
        "    train_acc += history_fine.history['accuracy']\n",
        "    val_acc += history_fine.history['val_accuracy']\n",
        "    train_loss += history_fine.history['loss']\n",
        "    val_loss += history_fine.history['val_loss']\n",
        "\n",
        "    # Create a figure and subplot\n",
        "    fig, axs = plt.subplots(1, 2, figsize=(14, 5))\n",
        "    # Plot the training and validation accuracy\n",
        "    axs[0].plot(train_acc, 'bo-', label='Training Accuracy')\n",
        "    axs[0].plot(val_acc, 'ro-', label='Validation Accuracy')\n",
        "    axs[0].set_title(f'Training & Validation Accuracy\\n opt={opt.__name__}, Momentum=0.9, lr={lr}, Epochs={Epoch}')\n",
        "    # axs[0].title.set_size(10) # if title is too big, change the size here\n",
        "    axs[0].legend(loc='lower right')\n",
        "    axs[0].set_xlabel(\"Epochs\")\n",
        "    axs[0].set_ylabel(\"Accuracy\")\n",
        "\n",
        "    # Plot the training and validation loss\n",
        "    axs[1].plot(train_loss, 'bo-', label='Training Loss')\n",
        "    axs[1].plot(val_loss, 'ro-', label='Validation Loss')\n",
        "    axs[1].set_title(f'Training & Validation Loss\\n opt={opt.__name__}, Momentum=0.9, lr={lr}, Epochs={Epoch}')\n",
        "    # axs[1].title.set_size(10) # if title is too big, change the size here\n",
        "    axs[1].legend(loc='upper right')\n",
        "    axs[1].set_xlabel(\"Epochs\")\n",
        "    axs[1].set_ylabel(\"Loss\")\n",
        "\n",
        "    # Adjust spacing between subplots\n",
        "    plt.subplots_adjust(wspace=0.2)\n",
        "\n",
        "    plt.show()\n"
      ]
    },
    {
      "cell_type": "markdown",
      "metadata": {
        "id": "BrCp83ycvE4I"
      },
      "source": [
        "Print the Loss & Accuracy Dictionaries"
      ]
    },
    {
      "cell_type": "code",
      "execution_count": 11,
      "metadata": {
        "colab": {
          "base_uri": "https://localhost:8080/"
        },
        "id": "uhPpfTRmvE4J",
        "outputId": "09e41d10-9b21-4295-cbac-47a23ba88cd2"
      },
      "outputs": [
        {
          "output_type": "stream",
          "name": "stdout",
          "text": [
            "Test Accuracy and Loss Results with Optimizer: SGD\n",
            "\n",
            "\n",
            "Print Accuracy Results\n",
            "Epochs Number = 40, Learning Rate = 0.001, Accuracy = 0.961\n",
            "\n",
            "\n",
            "Print Loss Results\n",
            "Epochs Number = 40, Learning Rate = 0.001, Loss = 0.110\n"
          ]
        }
      ],
      "source": [
        "print(f\"Test Accuracy and Loss Results with Optimizer: {opt.__name__}\")\n",
        "print()\n",
        "print()\n",
        "def print_results_dict(Accuracy, Loss):\n",
        "    print(\"Print Accuracy Results\")\n",
        "    for key, val in Accuracy.items():\n",
        "        epochs, lr = key\n",
        "        print(f\"Epochs Number = {epochs}, Learning Rate = {lr}, Accuracy = {val:.3f}\")\n",
        "    print()\n",
        "    print()\n",
        "    print(\"Print Loss Results\")\n",
        "    for key, val in Loss.items():\n",
        "        epochs, lr = key\n",
        "        print(f\"Epochs Number = {epochs}, Learning Rate = {lr}, Loss = {val:.3f}\")\n",
        "\n",
        "\n",
        "print_results_dict(lr_epoch_test_acc, lr_epoch_test_loss)"
      ]
    }
  ],
  "metadata": {
    "accelerator": "GPU",
    "colab": {
      "gpuType": "T4",
      "provenance": []
    },
    "kernelspec": {
      "display_name": "Python 3",
      "name": "python3"
    },
    "language_info": {
      "name": "python",
      "version": "3.11.0"
    }
  },
  "nbformat": 4,
  "nbformat_minor": 0
}