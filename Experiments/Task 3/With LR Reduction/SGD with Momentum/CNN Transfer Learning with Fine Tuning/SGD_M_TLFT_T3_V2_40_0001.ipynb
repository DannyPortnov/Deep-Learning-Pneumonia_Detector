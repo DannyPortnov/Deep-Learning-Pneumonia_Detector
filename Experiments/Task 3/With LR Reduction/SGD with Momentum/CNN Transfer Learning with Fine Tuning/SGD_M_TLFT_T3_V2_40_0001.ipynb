{
  "cells": [
    {
      "cell_type": "code",
      "execution_count": 1,
      "metadata": {
        "colab": {
          "base_uri": "https://localhost:8080/"
        },
        "id": "GhS3l6TBIFsH",
        "outputId": "3935bd3e-ee38-4910-f9cd-2ab79cee6044"
      },
      "outputs": [
        {
          "output_type": "stream",
          "name": "stdout",
          "text": [
            "Mounted at /content/drive\n"
          ]
        }
      ],
      "source": [
        "from google.colab import drive\n",
        "drive.mount('/content/drive')"
      ]
    },
    {
      "cell_type": "code",
      "execution_count": 2,
      "metadata": {
        "id": "yWpejyuoUk6K"
      },
      "outputs": [],
      "source": [
        "import matplotlib.pyplot as plt\n",
        "import matplotlib.ticker as ticker\n",
        "import numpy as np  # linear algebra\n",
        "import pandas as pd  # data processing, CSV file I/O (e.g. pd.read_csv)\n",
        "import glob\n",
        "import keras\n",
        "import tensorflow as tf\n",
        "from keras.applications import ResNet152V2, ResNet50V2\n",
        "from keras.optimizers import Adam, SGD, RMSprop\n",
        "from keras.layers import Dense, GlobalAveragePooling2D, Flatten, Dropout, Input\n",
        "from keras.callbacks import ReduceLROnPlateau, EarlyStopping\n",
        "from keras.preprocessing.image import ImageDataGenerator\n",
        "from sklearn.model_selection import train_test_split\n",
        "from sklearn.metrics import precision_score, recall_score, f1_score\n",
        "from sklearn.utils import shuffle"
      ]
    },
    {
      "cell_type": "markdown",
      "metadata": {
        "id": "CeP4bq1LQ0Rh"
      },
      "source": [
        "Generate Data From chest_xray Folder:\n",
        "* Here we split the data in a way that we have bacteria, virus and normal images. in the proper way- some of each and not in a total randomize way\n",
        "* TODO: Need to chek why the depth of the image is 3 and not 1 as in regular cnn network"
      ]
    },
    {
      "cell_type": "code",
      "execution_count": 3,
      "metadata": {
        "id": "Nn76uai1Q0Rj"
      },
      "outputs": [],
      "source": [
        "# IMG_SIZE = 150\n",
        "IMG_DEPTH = 3\n",
        "IMG_SIZE = 224\n",
        "BATCH = 16\n",
        "SEED = 42\n",
        "\n",
        "normal_dataset = glob.glob('/content/drive/MyDrive/Deep Learning Project/chest_xray/NORMAL/*.jpeg')\n",
        "pneumonia_dataset = glob.glob('/content/drive/MyDrive/Deep Learning Project/chest_xray/PNEUMONIA/*.jpeg')\n",
        "virus_dataset = list(filter(lambda x: 'virus' in x, pneumonia_dataset))\n",
        "bacterial_dataset = list(filter(lambda x: 'bacteria' in x, pneumonia_dataset))\n"
      ]
    },
    {
      "cell_type": "markdown",
      "metadata": {
        "id": "RuuKdzexQ0Rk"
      },
      "source": [
        "Generate Train, Validation and Test Sets:"
      ]
    },
    {
      "cell_type": "code",
      "execution_count": 4,
      "metadata": {
        "id": "5rbDQFfqQ0Rk"
      },
      "outputs": [],
      "source": [
        "def split_data(dataSet, testSize, valSize):\n",
        "    train, test= train_test_split(dataSet, test_size=testSize, random_state=SEED, shuffle=True)\n",
        "    train, val= train_test_split(train, test_size=valSize, random_state=SEED, shuffle=True)\n",
        "    return train, test, val\n",
        "\n",
        "\n",
        "train_normal, test_normal, val_normal = split_data(normal_dataset, 0.15, 0.038)\n",
        "train_bacterial, test_bacterial, val_bacterial = split_data(bacterial_dataset, 0.05, 0.0095)\n",
        "train_virus, test_virus, val_virus = split_data(virus_dataset, 0.075, 0.019)\n",
        "\n",
        "\n",
        "\n",
        "train = [x for x in train_normal]\n",
        "train.extend([x for x in train_bacterial])\n",
        "train.extend([x for x in train_virus])\n",
        "\n",
        "test = [x for x in test_normal]\n",
        "test.extend([x for x in test_bacterial])\n",
        "test.extend([x for x in test_virus])\n",
        "\n",
        "val = [x for x in val_normal]\n",
        "val.extend([x for x in val_bacterial])\n",
        "val.extend([x for x in val_virus])\n",
        "\n",
        "df_train = pd.DataFrame(np.concatenate([['Normal']*(len(train_normal)) , ['Pneumonia']*(len(train_bacterial) + len(train_virus))]), columns = ['class'])\n",
        "df_train['image'] = [x for x in train]\n",
        "\n",
        "df_val = pd.DataFrame(np.concatenate([['Normal']*(len(val_normal)) , ['Pneumonia']*(len(val_bacterial) + len(val_virus))]), columns = ['class'])\n",
        "df_val['image'] = [x for x in val]\n",
        "\n",
        "df_test = pd.DataFrame(np.concatenate([['Normal']*len(test_normal) , ['Pneumonia']*(len(test_bacterial) + len(test_virus))]), columns = ['class'])\n",
        "df_test['image'] = [x for x in test]\n",
        "\n"
      ]
    },
    {
      "cell_type": "markdown",
      "metadata": {
        "id": "sdWeJgJjQ0Rl"
      },
      "source": [
        "Perform Data Augmentation on Each Set:\n",
        "* TODO: Need to check why we are doing data augmentation on all 3 sets\n",
        "  and not just on the training set as in the regular cnn network."
      ]
    },
    {
      "cell_type": "code",
      "execution_count": 5,
      "metadata": {
        "colab": {
          "base_uri": "https://localhost:8080/"
        },
        "id": "-9XlTMqiQ0Rm",
        "outputId": "7a454b12-f0a1-4420-f579-cda4e5115ae6"
      },
      "outputs": [
        {
          "output_type": "stream",
          "name": "stdout",
          "text": [
            "Found 5262 validated image filenames belonging to 2 classes.\n",
            "Found 105 validated image filenames belonging to 2 classes.\n",
            "Found 489 validated image filenames belonging to 2 classes.\n"
          ]
        }
      ],
      "source": [
        "\n",
        "# With data augmentation to prevent overfitting and handling the imbalance in dataset\n",
        "# Because the dataset is small we \"increase\" the dataset by change of images parameters.\n",
        "# In this way we increase our dataset and prevent overfitting.\n",
        "\n",
        "train_datagen = ImageDataGenerator(rescale=1/255.,\n",
        "                                  zoom_range = 0.1,\n",
        "                                  #rotation_range = 0.1,\n",
        "                                  width_shift_range = 0.1,\n",
        "                                  height_shift_range = 0.1)\n",
        "\n",
        "test_datagen = ImageDataGenerator(rescale=1/255.)\n",
        "\n",
        "ds_train = train_datagen.flow_from_dataframe(df_train,\n",
        "                                             #directory=train_path, #dataframe contains the full paths\n",
        "                                             x_col = 'image',\n",
        "                                             y_col = 'class',\n",
        "                                             target_size = (IMG_SIZE, IMG_SIZE),\n",
        "                                             class_mode = 'binary',\n",
        "                                             batch_size = BATCH,\n",
        "                                             seed = SEED)\n",
        "\n",
        "ds_val = test_datagen.flow_from_dataframe(df_val,\n",
        "                                            #directory=train_path,\n",
        "                                            x_col = 'image',\n",
        "                                            y_col = 'class',\n",
        "                                            target_size = (IMG_SIZE, IMG_SIZE),\n",
        "                                            class_mode = 'binary',\n",
        "                                            batch_size = BATCH,\n",
        "                                            seed = SEED)\n",
        "\n",
        "ds_test = test_datagen.flow_from_dataframe(df_test,\n",
        "                                            #directory=test_path,\n",
        "                                            x_col = 'image',\n",
        "                                            y_col = 'class',\n",
        "                                            target_size = (IMG_SIZE, IMG_SIZE),\n",
        "                                            class_mode = 'binary',\n",
        "                                            batch_size = 1,\n",
        "                                            shuffle = False)"
      ]
    },
    {
      "cell_type": "markdown",
      "metadata": {
        "id": "f8fJj3dOQ0Rn"
      },
      "source": [
        "# Building CNN Network- Transfer Learning with Fine Tuning"
      ]
    },
    {
      "cell_type": "markdown",
      "metadata": {
        "id": "mzTFMWFEQ0Rn"
      },
      "source": [
        "Create and Freeze the Base Model and Get the Pre-Trained Model\n",
        "* This function creates a base model and freezeing all of its layers."
      ]
    },
    {
      "cell_type": "code",
      "execution_count": 6,
      "metadata": {
        "id": "LhSaQSKxQ0Ro"
      },
      "outputs": [],
      "source": [
        "def create_base_model():\n",
        "    # --------- create base model ----------#\n",
        "    base_model = ResNet50V2(\n",
        "        weights='imagenet',\n",
        "        input_shape=(IMG_SIZE, IMG_SIZE, IMG_DEPTH),\n",
        "        include_top=False)\n",
        "\n",
        "    # --------- FREEZE base model ----------#\n",
        "    base_model.trainable = False\n",
        "    return base_model\n"
      ]
    },
    {
      "cell_type": "markdown",
      "metadata": {
        "id": "jH9ZK1kkQ0Ro"
      },
      "source": [
        "Get the Pre-Trained Model\n",
        "* If you are creating many models in a loop, this global state will consume\n",
        "  an increasing amount of memory over time, and you may want to clear it.\n",
        "  Calling clear_session() releases the global state: this helps avoid clutter\n",
        "  from old models and layers, especially when memory is limited.\n",
        "* We use: keras.backend.clear_session()"
      ]
    },
    {
      "cell_type": "code",
      "execution_count": 7,
      "metadata": {
        "id": "IYyI2IK2Q0Ro"
      },
      "outputs": [],
      "source": [
        "def get_pre_trained_model(base_model):\n",
        "    # --------- get pretrained model ----------#\n",
        "    keras.backend.clear_session()\n",
        "\n",
        "    #Input shape = [width, height, color channels]\n",
        "    inputs = Input(shape=(IMG_SIZE, IMG_SIZE, IMG_DEPTH))\n",
        "\n",
        "    x = base_model(inputs, training=False)\n",
        "\n",
        "    # Head\n",
        "    x = GlobalAveragePooling2D()(x)\n",
        "    x = Dense(128, activation='relu')(x)\n",
        "    x = Dropout(0.2)(x)\n",
        "\n",
        "    #Final Layer (Output)\n",
        "    output = Dense(1, activation='sigmoid')(x)\n",
        "\n",
        "    pre_trained_model = keras.Model(inputs=[inputs], outputs=output)\n",
        "\n",
        "    return pre_trained_model"
      ]
    },
    {
      "cell_type": "markdown",
      "metadata": {
        "id": "41fhgkFoQ0Rp"
      },
      "source": [
        "Adding Fine Tuning\n",
        "* This function un-freezes the top layers of the base model."
      ]
    },
    {
      "cell_type": "code",
      "execution_count": 8,
      "metadata": {
        "id": "rrcvcGBtQ0Rp"
      },
      "outputs": [],
      "source": [
        "def add_fine_tuning(base_model):\n",
        "    # Set the base_model as trainable\n",
        "    base_model.trainable = True\n",
        "\n",
        "    # Print the number of layers in the base_model\n",
        "    print(f\"Number of Layers In the Base Model: {len(base_model.layers)}\")\n",
        "\n",
        "    # Specify the layer index from which fine-tuning will start\n",
        "    fine_tune_from = -70\n",
        "\n",
        "    # Iterate through the layers of the base_model\n",
        "    # and set them as non-trainable up to the fine_tune_from index\n",
        "    for layer in base_model.layers[:fine_tune_from]:\n",
        "        layer.trainable = False"
      ]
    },
    {
      "cell_type": "markdown",
      "metadata": {
        "id": "w15wAEGpQ0Rp"
      },
      "source": [
        "Try Different Epochs and Learning Rates\n",
        "* Compile and Train the Model for each Epoch and Learning Rate.\n",
        "\n",
        "* Plot Graphs of the Training and Validation Accuracy and Loss vs Epochs.\n",
        "\n",
        "* It is critical to only do fine tuning after the model with frozen layers has been trained to convergence.\n",
        "  If you mix randomly-initialized trainable layers with trainable layers that hold pre-trained features,\n",
        "  the randomly-initialized layers will cause very large gradient updates during training, which will destroy your pre-trained features.\n",
        "\n",
        "* It's also critical to use a very low learning rate at this stage, because you are training a much larger model than in the first round of training, on a dataset that is typically very small. As a result, you are at risk of overfitting very quickly if you apply large weight updates. Here, you only want to readapt the pretrained weights in an incremental way."
      ]
    },
    {
      "cell_type": "code",
      "execution_count": 9,
      "metadata": {
        "colab": {
          "base_uri": "https://localhost:8080/",
          "height": 1000
        },
        "id": "BmIBlB5nQ0Rq",
        "outputId": "42a38764-e658-4535-fdbb-7beb2707d4c4"
      },
      "outputs": [
        {
          "output_type": "stream",
          "name": "stdout",
          "text": [
            "Downloading data from https://storage.googleapis.com/tensorflow/keras-applications/resnet/resnet50v2_weights_tf_dim_ordering_tf_kernels_notop.h5\n",
            "94668760/94668760 [==============================] - 5s 0us/step\n",
            "Epoch 1/20\n",
            "328/328 [==============================] - 1157s 3s/step - loss: 0.3767 - accuracy: 0.8322 - val_loss: 0.3700 - val_accuracy: 0.8095 - lr: 1.0000e-04\n",
            "Epoch 2/20\n",
            "328/328 [==============================] - 114s 347ms/step - loss: 0.2571 - accuracy: 0.8940 - val_loss: 0.3362 - val_accuracy: 0.8286 - lr: 1.0000e-04\n",
            "Epoch 3/20\n",
            "328/328 [==============================] - 117s 355ms/step - loss: 0.2325 - accuracy: 0.9057 - val_loss: 0.2954 - val_accuracy: 0.8476 - lr: 1.0000e-04\n",
            "Epoch 4/20\n",
            "328/328 [==============================] - 114s 346ms/step - loss: 0.2169 - accuracy: 0.9107 - val_loss: 0.2578 - val_accuracy: 0.8762 - lr: 1.0000e-04\n",
            "Epoch 5/20\n",
            "328/328 [==============================] - 117s 356ms/step - loss: 0.2111 - accuracy: 0.9185 - val_loss: 0.2593 - val_accuracy: 0.8667 - lr: 1.0000e-04\n",
            "Epoch 6/20\n",
            "328/328 [==============================] - 115s 351ms/step - loss: 0.1961 - accuracy: 0.9206 - val_loss: 0.2508 - val_accuracy: 0.8762 - lr: 1.0000e-04\n",
            "Epoch 7/20\n",
            "328/328 [==============================] - 116s 353ms/step - loss: 0.1873 - accuracy: 0.9297 - val_loss: 0.2527 - val_accuracy: 0.8667 - lr: 1.0000e-04\n",
            "Epoch 8/20\n",
            "328/328 [==============================] - 113s 345ms/step - loss: 0.1830 - accuracy: 0.9253 - val_loss: 0.2212 - val_accuracy: 0.8762 - lr: 1.0000e-04\n",
            "Epoch 9/20\n",
            "328/328 [==============================] - 114s 347ms/step - loss: 0.1743 - accuracy: 0.9358 - val_loss: 0.2154 - val_accuracy: 0.8857 - lr: 1.0000e-04\n",
            "Epoch 10/20\n",
            "328/328 [==============================] - 114s 347ms/step - loss: 0.1706 - accuracy: 0.9348 - val_loss: 0.2203 - val_accuracy: 0.8857 - lr: 1.0000e-04\n",
            "Epoch 11/20\n",
            "328/328 [==============================] - 113s 344ms/step - loss: 0.1681 - accuracy: 0.9360 - val_loss: 0.1983 - val_accuracy: 0.8952 - lr: 1.0000e-04\n",
            "Epoch 12/20\n",
            "328/328 [==============================] - 116s 352ms/step - loss: 0.1665 - accuracy: 0.9352 - val_loss: 0.1838 - val_accuracy: 0.9143 - lr: 1.0000e-04\n",
            "Epoch 13/20\n",
            "328/328 [==============================] - 115s 350ms/step - loss: 0.1614 - accuracy: 0.9350 - val_loss: 0.1884 - val_accuracy: 0.8952 - lr: 1.0000e-04\n",
            "Epoch 14/20\n",
            "328/328 [==============================] - 119s 360ms/step - loss: 0.1561 - accuracy: 0.9384 - val_loss: 0.1819 - val_accuracy: 0.9143 - lr: 1.0000e-04\n",
            "Epoch 15/20\n",
            "328/328 [==============================] - 116s 352ms/step - loss: 0.1602 - accuracy: 0.9371 - val_loss: 0.1880 - val_accuracy: 0.8952 - lr: 1.0000e-04\n",
            "Epoch 16/20\n",
            "329/328 [==============================] - ETA: 0s - loss: 0.1554 - accuracy: 0.9441\n",
            "Epoch 16: ReduceLROnPlateau reducing learning rate to 1.9999999494757503e-05.\n",
            "328/328 [==============================] - 115s 349ms/step - loss: 0.1554 - accuracy: 0.9441 - val_loss: 0.1935 - val_accuracy: 0.8952 - lr: 1.0000e-04\n",
            "Epoch 17/20\n",
            "328/328 [==============================] - 118s 358ms/step - loss: 0.1535 - accuracy: 0.9430 - val_loss: 0.1845 - val_accuracy: 0.9048 - lr: 2.0000e-05\n",
            "Epoch 18/20\n",
            "329/328 [==============================] - ETA: 0s - loss: 0.1582 - accuracy: 0.9413\n",
            "Epoch 18: ReduceLROnPlateau reducing learning rate to 3.999999898951501e-06.\n",
            "328/328 [==============================] - 115s 349ms/step - loss: 0.1582 - accuracy: 0.9413 - val_loss: 0.1831 - val_accuracy: 0.9048 - lr: 2.0000e-05\n",
            "Epoch 19/20\n",
            "328/328 [==============================] - 116s 352ms/step - loss: 0.1508 - accuracy: 0.9443 - val_loss: 0.1837 - val_accuracy: 0.9048 - lr: 4.0000e-06\n",
            "Epoch 20/20\n",
            "329/328 [==============================] - ETA: 0s - loss: 0.1570 - accuracy: 0.9371\n",
            "Epoch 20: ReduceLROnPlateau reducing learning rate to 7.999999979801942e-07.\n",
            "328/328 [==============================] - 117s 356ms/step - loss: 0.1570 - accuracy: 0.9371 - val_loss: 0.1844 - val_accuracy: 0.9048 - lr: 4.0000e-06\n",
            "Number of Layers In the Base Model: 190\n",
            "Epoch 20/40\n",
            "328/328 [==============================] - 129s 373ms/step - loss: 0.1549 - accuracy: 0.9422 - val_loss: 0.1821 - val_accuracy: 0.9048 - lr: 1.0000e-05\n",
            "Epoch 21/40\n",
            "328/328 [==============================] - 125s 379ms/step - loss: 0.1491 - accuracy: 0.9430 - val_loss: 0.1751 - val_accuracy: 0.9048 - lr: 1.0000e-05\n",
            "Epoch 22/40\n",
            "328/328 [==============================] - 121s 367ms/step - loss: 0.1545 - accuracy: 0.9418 - val_loss: 0.1831 - val_accuracy: 0.9048 - lr: 1.0000e-05\n",
            "Epoch 23/40\n",
            "328/328 [==============================] - 119s 362ms/step - loss: 0.1441 - accuracy: 0.9468 - val_loss: 0.1667 - val_accuracy: 0.9143 - lr: 1.0000e-05\n",
            "Epoch 24/40\n",
            "328/328 [==============================] - 118s 360ms/step - loss: 0.1443 - accuracy: 0.9466 - val_loss: 0.1675 - val_accuracy: 0.9048 - lr: 1.0000e-05\n",
            "Epoch 25/40\n",
            "328/328 [==============================] - 117s 354ms/step - loss: 0.1420 - accuracy: 0.9496 - val_loss: 0.1547 - val_accuracy: 0.9333 - lr: 1.0000e-05\n",
            "Epoch 26/40\n",
            "328/328 [==============================] - 121s 367ms/step - loss: 0.1400 - accuracy: 0.9466 - val_loss: 0.1647 - val_accuracy: 0.9143 - lr: 1.0000e-05\n",
            "Epoch 27/40\n",
            "329/328 [==============================] - ETA: 0s - loss: 0.1327 - accuracy: 0.9517\n",
            "Epoch 27: ReduceLROnPlateau reducing learning rate to 1.9999999494757505e-06.\n",
            "328/328 [==============================] - 120s 364ms/step - loss: 0.1327 - accuracy: 0.9517 - val_loss: 0.1637 - val_accuracy: 0.9143 - lr: 1.0000e-05\n",
            "Epoch 28/40\n",
            "328/328 [==============================] - 120s 364ms/step - loss: 0.1336 - accuracy: 0.9477 - val_loss: 0.1585 - val_accuracy: 0.9143 - lr: 2.0000e-06\n",
            "Epoch 29/40\n",
            "329/328 [==============================] - ETA: 0s - loss: 0.1325 - accuracy: 0.9536\n",
            "Epoch 29: ReduceLROnPlateau reducing learning rate to 3.999999989900971e-07.\n",
            "328/328 [==============================] - 119s 361ms/step - loss: 0.1325 - accuracy: 0.9536 - val_loss: 0.1577 - val_accuracy: 0.9143 - lr: 2.0000e-06\n",
            "Epoch 30/40\n",
            "328/328 [==============================] - 119s 361ms/step - loss: 0.1297 - accuracy: 0.9510 - val_loss: 0.1579 - val_accuracy: 0.9143 - lr: 4.0000e-07\n",
            "Epoch 31/40\n",
            "329/328 [==============================] - ETA: 0s - loss: 0.1348 - accuracy: 0.9479\n",
            "Epoch 31: ReduceLROnPlateau reducing learning rate to 8.00000009348878e-08.\n",
            "328/328 [==============================] - 120s 366ms/step - loss: 0.1348 - accuracy: 0.9479 - val_loss: 0.1581 - val_accuracy: 0.9143 - lr: 4.0000e-07\n",
            "Epoch 32/40\n",
            "328/328 [==============================] - 120s 364ms/step - loss: 0.1361 - accuracy: 0.9525 - val_loss: 0.1580 - val_accuracy: 0.9143 - lr: 8.0000e-08\n",
            "Epoch 33/40\n",
            "329/328 [==============================] - ETA: 0s - loss: 0.1378 - accuracy: 0.9504\n",
            "Epoch 33: ReduceLROnPlateau reducing learning rate to 1.5999999902760466e-08.\n",
            "328/328 [==============================] - 116s 353ms/step - loss: 0.1378 - accuracy: 0.9504 - val_loss: 0.1579 - val_accuracy: 0.9143 - lr: 8.0000e-08\n",
            "Epoch 34/40\n",
            "328/328 [==============================] - 120s 364ms/step - loss: 0.1309 - accuracy: 0.9529 - val_loss: 0.1579 - val_accuracy: 0.9143 - lr: 1.6000e-08\n",
            "Epoch 35/40\n",
            "329/328 [==============================] - ETA: 0s - loss: 0.1320 - accuracy: 0.9504\n",
            "Epoch 35: ReduceLROnPlateau reducing learning rate to 3.1999999094978194e-09.\n",
            "328/328 [==============================] - 117s 354ms/step - loss: 0.1320 - accuracy: 0.9504 - val_loss: 0.1579 - val_accuracy: 0.9143 - lr: 1.6000e-08\n",
            "Epoch 36/40\n",
            "328/328 [==============================] - 120s 364ms/step - loss: 0.1333 - accuracy: 0.9470 - val_loss: 0.1579 - val_accuracy: 0.9143 - lr: 3.2000e-09\n",
            "Epoch 37/40\n",
            "329/328 [==============================] - ETA: 0s - loss: 0.1377 - accuracy: 0.9506\n",
            "Epoch 37: ReduceLROnPlateau reducing learning rate to 6.399999641359955e-10.\n",
            "328/328 [==============================] - 119s 361ms/step - loss: 0.1377 - accuracy: 0.9506 - val_loss: 0.1579 - val_accuracy: 0.9143 - lr: 3.2000e-09\n",
            "Epoch 38/40\n",
            "328/328 [==============================] - 123s 373ms/step - loss: 0.1301 - accuracy: 0.9525 - val_loss: 0.1579 - val_accuracy: 0.9143 - lr: 6.4000e-10\n",
            "Epoch 39/40\n",
            "329/328 [==============================] - ETA: 0s - loss: 0.1346 - accuracy: 0.9536\n",
            "Epoch 39: ReduceLROnPlateau reducing learning rate to 1.27999988386307e-10.\n",
            "328/328 [==============================] - 118s 358ms/step - loss: 0.1346 - accuracy: 0.9536 - val_loss: 0.1579 - val_accuracy: 0.9143 - lr: 6.4000e-10\n",
            "Epoch 40/40\n",
            "328/328 [==============================] - 122s 370ms/step - loss: 0.1367 - accuracy: 0.9447 - val_loss: 0.1579 - val_accuracy: 0.9143 - lr: 1.2800e-10\n",
            "Test Loss: 0.1567533165216446\n",
            "Test Accuracy: 0.9406952857971191\n"
          ]
        },
        {
          "output_type": "display_data",
          "data": {
            "text/plain": [
              "<Figure size 1400x500 with 2 Axes>"
            ],
            "image/png": "[encoded data removed]"
          },
          "metadata": {}
        }
      ],
      "source": [
        "Epochs = [40]\n",
        "learning_rates= [0.0001]\n",
        "\n",
        "opt = SGD\n",
        "\n",
        "learning_rate_reduction = ReduceLROnPlateau(\n",
        "    monitor='val_loss',\n",
        "    factor = 0.2,\n",
        "    patience = 2,\n",
        "    min_delt = 1e-10,\n",
        "    cooldown = 0,\n",
        "    verbose = 1\n",
        ")\n",
        "\n",
        "lr_epoch_test_acc = {}\n",
        "lr_epoch_test_loss = {}\n",
        "for Epoch in Epochs:\n",
        "  initial_epochs = Epoch//2\n",
        "  for lr in learning_rates:\n",
        "    base_model = create_base_model()\n",
        "    model = get_pre_trained_model(base_model)\n",
        "    # Training the model with all layers frozen\n",
        "    model.compile(loss='binary_crossentropy',\n",
        "                optimizer = opt(learning_rate=lr, momentum=0.9), metrics='accuracy')\n",
        "    # model.summary()\n",
        "    history = model.fit(ds_train,\n",
        "              batch_size=BATCH, epochs=initial_epochs,\n",
        "              validation_data=ds_val,\n",
        "              callbacks=[learning_rate_reduction],\n",
        "              steps_per_epoch=(len(df_train)/BATCH),\n",
        "              validation_steps=(len(df_val)/BATCH))\n",
        "    # Evaluate the Accuracy and Loss (Before Fine Tuning)\n",
        "    train_acc = history.history['accuracy']\n",
        "    train_loss = history.history['loss']\n",
        "    val_acc = history.history['val_accuracy']\n",
        "    val_loss = history.history['val_loss']\n",
        "\n",
        "    # adding fine tuning\n",
        "    add_fine_tuning(base_model)\n",
        "    model.compile(loss='binary_crossentropy',\n",
        "                optimizer = opt(learning_rate=lr/10), metrics='accuracy')\n",
        "    history_fine = model.fit(ds_train,\n",
        "                        batch_size=BATCH,\n",
        "                        epochs=Epoch,\n",
        "                        initial_epoch=history.epoch[-1],\n",
        "                        validation_data=ds_val,\n",
        "                        callbacks=[learning_rate_reduction],\n",
        "                        steps_per_epoch=(len(df_train)/BATCH),\n",
        "                        validation_steps=(len(df_val)/BATCH))\n",
        "    # Evaluate the Accuracy and Loss (After Fine Tuning):\n",
        "\n",
        "    test_loss, test_accuracy = model.evaluate(ds_test, verbose=0)\n",
        "    lr_epoch_tuple = (Epoch, lr)\n",
        "    lr_epoch_test_acc[lr_epoch_tuple] = test_accuracy\n",
        "    lr_epoch_test_loss[lr_epoch_tuple] = test_loss\n",
        "    print(\"Test Loss:\", test_loss)\n",
        "    print(\"Test Accuracy:\", test_accuracy)\n",
        "\n",
        "    train_acc += history_fine.history['accuracy']\n",
        "    val_acc += history_fine.history['val_accuracy']\n",
        "    train_loss += history_fine.history['loss']\n",
        "    val_loss += history_fine.history['val_loss']\n",
        "\n",
        "    # Create a figure and subplot\n",
        "    fig, axs = plt.subplots(1, 2, figsize=(14, 5))\n",
        "    # Plot the training and validation accuracy\n",
        "    axs[0].plot(train_acc, 'bo-', label='Training Accuracy')\n",
        "    axs[0].plot(val_acc, 'ro-', label='Validation Accuracy')\n",
        "    axs[0].set_title(f'Training & Validation Accuracy\\n opt={opt.__name__}, Momentum=0.9, lr={lr}, Epochs={Epoch}')\n",
        "    # axs[0].title.set_size(10) # if title is too big, change the size here\n",
        "    axs[0].legend(loc='lower right')\n",
        "    axs[0].set_xlabel(\"Epochs\")\n",
        "    axs[0].set_ylabel(\"Accuracy\")\n",
        "\n",
        "    # Plot the training and validation loss\n",
        "    axs[1].plot(train_loss, 'bo-', label='Training Loss')\n",
        "    axs[1].plot(val_loss, 'ro-', label='Validation Loss')\n",
        "    axs[1].set_title(f'Training & Validation Loss\\n opt={opt.__name__}, Momentum=0.9, lr={lr}, Epochs={Epoch}')\n",
        "    # axs[1].title.set_size(10) # if title is too big, change the size here\n",
        "    axs[1].legend(loc='upper right')\n",
        "    axs[1].set_xlabel(\"Epochs\")\n",
        "    axs[1].set_ylabel(\"Loss\")\n",
        "\n",
        "    # Adjust spacing between subplots\n",
        "    plt.subplots_adjust(wspace=0.2)\n",
        "\n",
        "    plt.show()\n"
      ]
    },
    {
      "cell_type": "markdown",
      "metadata": {
        "id": "seJmVGboQ0Rr"
      },
      "source": [
        "Print the Loss & Accuracy Dictionaries"
      ]
    },
    {
      "cell_type": "code",
      "execution_count": 10,
      "metadata": {
        "id": "JzT_kIGTQ0Rs",
        "colab": {
          "base_uri": "https://localhost:8080/"
        },
        "outputId": "65ec6ed2-45a1-4ece-bd58-f64b02f5be36"
      },
      "outputs": [
        {
          "output_type": "stream",
          "name": "stdout",
          "text": [
            "Test Accuracy and Loss Results with Optimizer: SGD\n",
            "\n",
            "\n",
            "Print Accuracy Results\n",
            "Epochs Number = 40, Learning Rate = 0.0001, Accuracy = 0.941\n",
            "\n",
            "\n",
            "Print Loss Results\n",
            "Epochs Number = 40, Learning Rate = 0.0001, Loss = 0.157\n"
          ]
        }
      ],
      "source": [
        "print(f\"Test Accuracy and Loss Results with Optimizer: {opt.__name__}\")\n",
        "print()\n",
        "print()\n",
        "def print_results_dict(Accuracy, Loss):\n",
        "    print(\"Print Accuracy Results\")\n",
        "    for key, val in Accuracy.items():\n",
        "        epochs, lr = key\n",
        "        print(f\"Epochs Number = {epochs}, Learning Rate = {lr}, Accuracy = {val:.3f}\")\n",
        "    print()\n",
        "    print()\n",
        "    print(\"Print Loss Results\")\n",
        "    for key, val in Loss.items():\n",
        "        epochs, lr = key\n",
        "        print(f\"Epochs Number = {epochs}, Learning Rate = {lr}, Loss = {val:.3f}\")\n",
        "\n",
        "\n",
        "print_results_dict(lr_epoch_test_acc, lr_epoch_test_loss)"
      ]
    }
  ],
  "metadata": {
    "accelerator": "GPU",
    "colab": {
      "gpuType": "T4",
      "provenance": []
    },
    "kernelspec": {
      "display_name": "Python 3",
      "name": "python3"
    },
    "language_info": {
      "name": "python",
      "version": "3.11.0"
    }
  },
  "nbformat": 4,
  "nbformat_minor": 0
}