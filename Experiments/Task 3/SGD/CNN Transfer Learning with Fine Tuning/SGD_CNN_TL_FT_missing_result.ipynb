{
  "cells": [
    {
      "cell_type": "code",
      "execution_count": 1,
      "metadata": {
        "colab": {
          "base_uri": "https://localhost:8080/"
        },
        "id": "GhS3l6TBIFsH",
        "outputId": "8497d701-f0a2-4adf-8613-131c5ccb5b64"
      },
      "outputs": [
        {
          "output_type": "stream",
          "name": "stdout",
          "text": [
            "Mounted at /content/drive\n"
          ]
        }
      ],
      "source": [
        "from google.colab import drive\n",
        "drive.mount('/content/drive')"
      ]
    },
    {
      "cell_type": "code",
      "execution_count": 2,
      "metadata": {
        "id": "yWpejyuoUk6K"
      },
      "outputs": [],
      "source": [
        "import matplotlib.pyplot as plt\n",
        "import matplotlib.ticker as ticker\n",
        "import numpy as np  # linear algebra\n",
        "import pandas as pd  # data processing, CSV file I/O (e.g. pd.read_csv)\n",
        "import glob\n",
        "import keras\n",
        "import tensorflow as tf\n",
        "from keras.applications import ResNet152V2, ResNet50V2\n",
        "from keras.optimizers import Adam, SGD, RMSprop\n",
        "from keras.layers import Dense, GlobalAveragePooling2D, Flatten, Dropout, Input\n",
        "from keras.callbacks import ReduceLROnPlateau, EarlyStopping\n",
        "from keras.preprocessing.image import ImageDataGenerator\n",
        "from sklearn.model_selection import train_test_split\n",
        "from sklearn.metrics import precision_score, recall_score, f1_score\n",
        "from sklearn.utils import shuffle"
      ]
    },
    {
      "cell_type": "markdown",
      "metadata": {
        "id": "GMYKvgPWsxd1"
      },
      "source": [
        "Generate Data From chest_xray Folder:\n",
        "* Here we split the data in a way that we have bacteria, virus and normal images. in the proper way- some of each and not in a total randomize way\n",
        "* TODO: Need to chek why the depth of the image is 3 and not 1 as in regular cnn network"
      ]
    },
    {
      "cell_type": "code",
      "execution_count": 3,
      "metadata": {
        "id": "xx65Xr25sxd3"
      },
      "outputs": [],
      "source": [
        "# IMG_SIZE = 150\n",
        "IMG_DEPTH = 3\n",
        "IMG_SIZE = 224\n",
        "BATCH = 16\n",
        "SEED = 42\n",
        "\n",
        "normal_dataset = glob.glob('/content/drive/MyDrive/Deep Learning Project/chest_xray/NORMAL/*.jpeg')\n",
        "pneumonia_dataset = glob.glob('/content/drive/MyDrive/Deep Learning Project/chest_xray/PNEUMONIA/*.jpeg')\n",
        "virus_dataset = list(filter(lambda x: 'virus' in x, pneumonia_dataset))\n",
        "bacterial_dataset = list(filter(lambda x: 'bacteria' in x, pneumonia_dataset))\n"
      ]
    },
    {
      "cell_type": "markdown",
      "metadata": {
        "id": "QHku-fxmsxd5"
      },
      "source": [
        "Generate Train, Validation and Test Sets:"
      ]
    },
    {
      "cell_type": "code",
      "execution_count": 4,
      "metadata": {
        "id": "83CNEJLSsxd6"
      },
      "outputs": [],
      "source": [
        "def split_data(dataSet, testSize, valSize):\n",
        "    train, test= train_test_split(dataSet, test_size=testSize, random_state=SEED, shuffle=True)\n",
        "    train, val= train_test_split(train, test_size=valSize, random_state=SEED, shuffle=True)\n",
        "    return train, test, val\n",
        "\n",
        "\n",
        "train_normal, test_normal, val_normal = split_data(normal_dataset, 0.15, 0.038)\n",
        "train_bacterial, test_bacterial, val_bacterial = split_data(bacterial_dataset, 0.05, 0.0095)\n",
        "train_virus, test_virus, val_virus = split_data(virus_dataset, 0.075, 0.019)\n",
        "\n",
        "\n",
        "\n",
        "train = [x for x in train_normal]\n",
        "train.extend([x for x in train_bacterial])\n",
        "train.extend([x for x in train_virus])\n",
        "\n",
        "test = [x for x in test_normal]\n",
        "test.extend([x for x in test_bacterial])\n",
        "test.extend([x for x in test_virus])\n",
        "\n",
        "val = [x for x in val_normal]\n",
        "val.extend([x for x in val_bacterial])\n",
        "val.extend([x for x in val_virus])\n",
        "\n",
        "df_train = pd.DataFrame(np.concatenate([['Normal']*(len(train_normal)) , ['Pneumonia']*(len(train_bacterial) + len(train_virus))]), columns = ['class'])\n",
        "df_train['image'] = [x for x in train]\n",
        "\n",
        "df_val = pd.DataFrame(np.concatenate([['Normal']*(len(val_normal)) , ['Pneumonia']*(len(val_bacterial) + len(val_virus))]), columns = ['class'])\n",
        "df_val['image'] = [x for x in val]\n",
        "\n",
        "df_test = pd.DataFrame(np.concatenate([['Normal']*len(test_normal) , ['Pneumonia']*(len(test_bacterial) + len(test_virus))]), columns = ['class'])\n",
        "df_test['image'] = [x for x in test]\n",
        "\n"
      ]
    },
    {
      "cell_type": "markdown",
      "metadata": {
        "id": "OpRPVQPmsxd6"
      },
      "source": [
        "Perform Data Augmentation on Each Set:\n",
        "* TODO: Need to check why we are doing data augmentation on all 3 sets\n",
        "  and not just on the training set as in the regular cnn network."
      ]
    },
    {
      "cell_type": "code",
      "execution_count": 5,
      "metadata": {
        "colab": {
          "base_uri": "https://localhost:8080/"
        },
        "id": "SBLKSlwJsxd7",
        "outputId": "4f0d20da-e123-465c-bb1f-9ae7b072a5b8"
      },
      "outputs": [
        {
          "output_type": "stream",
          "name": "stdout",
          "text": [
            "Found 5262 validated image filenames belonging to 2 classes.\n",
            "Found 105 validated image filenames belonging to 2 classes.\n",
            "Found 489 validated image filenames belonging to 2 classes.\n"
          ]
        }
      ],
      "source": [
        "\n",
        "# With data augmentation to prevent overfitting and handling the imbalance in dataset\n",
        "# Because the dataset is small we \"increase\" the dataset by change of images parameters.\n",
        "# In this way we increase our dataset and prevent overfitting.\n",
        "\n",
        "train_datagen = ImageDataGenerator(rescale=1/255.,\n",
        "                                  zoom_range = 0.1,\n",
        "                                  #rotation_range = 0.1,\n",
        "                                  width_shift_range = 0.1,\n",
        "                                  height_shift_range = 0.1)\n",
        "\n",
        "test_datagen = ImageDataGenerator(rescale=1/255.)\n",
        "\n",
        "ds_train = train_datagen.flow_from_dataframe(df_train,\n",
        "                                             #directory=train_path, #dataframe contains the full paths\n",
        "                                             x_col = 'image',\n",
        "                                             y_col = 'class',\n",
        "                                             target_size = (IMG_SIZE, IMG_SIZE),\n",
        "                                             class_mode = 'binary',\n",
        "                                             batch_size = BATCH,\n",
        "                                             seed = SEED)\n",
        "\n",
        "ds_val = test_datagen.flow_from_dataframe(df_val,\n",
        "                                            #directory=train_path,\n",
        "                                            x_col = 'image',\n",
        "                                            y_col = 'class',\n",
        "                                            target_size = (IMG_SIZE, IMG_SIZE),\n",
        "                                            class_mode = 'binary',\n",
        "                                            batch_size = BATCH,\n",
        "                                            seed = SEED)\n",
        "\n",
        "ds_test = test_datagen.flow_from_dataframe(df_test,\n",
        "                                            #directory=test_path,\n",
        "                                            x_col = 'image',\n",
        "                                            y_col = 'class',\n",
        "                                            target_size = (IMG_SIZE, IMG_SIZE),\n",
        "                                            class_mode = 'binary',\n",
        "                                            batch_size = 1,\n",
        "                                            shuffle = False)"
      ]
    },
    {
      "cell_type": "markdown",
      "metadata": {
        "id": "4t7esXMysxd8"
      },
      "source": [
        "# Building CNN Network- Transfer Learning with Fine Tuning"
      ]
    },
    {
      "cell_type": "markdown",
      "metadata": {
        "id": "BUYf1Ohwsxd8"
      },
      "source": [
        "Create and Freeze the Base Model and Get the Pre-Trained Model\n",
        "* This function creates a base model and freezeing all of its layers."
      ]
    },
    {
      "cell_type": "code",
      "execution_count": 6,
      "metadata": {
        "id": "mkpNp_89sxd9"
      },
      "outputs": [],
      "source": [
        "def create_base_model():\n",
        "    # --------- create base model ----------#\n",
        "    base_model = ResNet50V2(\n",
        "        weights='imagenet',\n",
        "        input_shape=(IMG_SIZE, IMG_SIZE, IMG_DEPTH),\n",
        "        include_top=False)\n",
        "\n",
        "    # --------- FREEZE base model ----------#\n",
        "    base_model.trainable = False\n",
        "    return base_model\n"
      ]
    },
    {
      "cell_type": "markdown",
      "metadata": {
        "id": "W2Ux5Xe4sxd9"
      },
      "source": [
        "Get the Pre-Trained Model\n",
        "* If you are creating many models in a loop, this global state will consume\n",
        "  an increasing amount of memory over time, and you may want to clear it.\n",
        "  Calling clear_session() releases the global state: this helps avoid clutter\n",
        "  from old models and layers, especially when memory is limited.\n",
        "* We use: keras.backend.clear_session()"
      ]
    },
    {
      "cell_type": "code",
      "execution_count": 7,
      "metadata": {
        "id": "ytBlVCPMsxd9"
      },
      "outputs": [],
      "source": [
        "def get_pre_trained_model(base_model):\n",
        "    # --------- get pretrained model ----------#\n",
        "    keras.backend.clear_session()\n",
        "\n",
        "    #Input shape = [width, height, color channels]\n",
        "    inputs = Input(shape=(IMG_SIZE, IMG_SIZE, IMG_DEPTH))\n",
        "\n",
        "    x = base_model(inputs, training=False)\n",
        "\n",
        "    # Head\n",
        "    x = GlobalAveragePooling2D()(x)\n",
        "    x = Dense(128, activation='relu')(x)\n",
        "    x = Dropout(0.2)(x)\n",
        "\n",
        "    #Final Layer (Output)\n",
        "    output = Dense(1, activation='sigmoid')(x)\n",
        "\n",
        "    pre_trained_model = keras.Model(inputs=[inputs], outputs=output)\n",
        "\n",
        "    return pre_trained_model"
      ]
    },
    {
      "cell_type": "markdown",
      "metadata": {
        "id": "tr-gwEgtsxd-"
      },
      "source": [
        "Adding Fine Tuning\n",
        "* This function un-freezes the top layers of the base model."
      ]
    },
    {
      "cell_type": "code",
      "execution_count": 8,
      "metadata": {
        "id": "4Fefr3_Zsxd-"
      },
      "outputs": [],
      "source": [
        "def add_fine_tuning(base_model):\n",
        "    # Set the base_model as trainable\n",
        "    base_model.trainable = True\n",
        "\n",
        "    # Print the number of layers in the base_model\n",
        "    print(f\"Number of Layers In the Base Model: {len(base_model.layers)}\")\n",
        "\n",
        "    # Specify the layer index from which fine-tuning will start\n",
        "    fine_tune_from = -70\n",
        "\n",
        "    # Iterate through the layers of the base_model\n",
        "    # and set them as non-trainable up to the fine_tune_from index\n",
        "    for layer in base_model.layers[:fine_tune_from]:\n",
        "        layer.trainable = False"
      ]
    },
    {
      "cell_type": "markdown",
      "metadata": {
        "id": "rhIXTQyEsxd-"
      },
      "source": [
        "Try Different Epochs and Learning Rates\n",
        "* Compile and Train the Model for each Epoch and Learning Rate.\n",
        "\n",
        "* Plot Graphs of the Training and Validation Accuracy and Loss vs Epochs.\n",
        "\n",
        "* It is critical to only do fine tuning after the model with frozen layers has been trained to convergence.\n",
        "  If you mix randomly-initialized trainable layers with trainable layers that hold pre-trained features,\n",
        "  the randomly-initialized layers will cause very large gradient updates during training, which will destroy your pre-trained features.\n",
        "\n",
        "* It's also critical to use a very low learning rate at this stage, because you are training a much larger model than in the first round of training, on a dataset that is typically very small. As a result, you are at risk of overfitting very quickly if you apply large weight updates. Here, you only want to readapt the pretrained weights in an incremental way."
      ]
    },
    {
      "cell_type": "code",
      "execution_count": 9,
      "metadata": {
        "colab": {
          "base_uri": "https://localhost:8080/",
          "height": 1000
        },
        "id": "1N1X0-pzsxd-",
        "outputId": "99d0ec8a-57d9-4b6e-bcec-790470947573"
      },
      "outputs": [
        {
          "output_type": "stream",
          "name": "stdout",
          "text": [
            "Downloading data from https://storage.googleapis.com/tensorflow/keras-applications/resnet/resnet50v2_weights_tf_dim_ordering_tf_kernels_notop.h5\n",
            "94668760/94668760 [==============================] - 5s 0us/step\n",
            "Epoch 1/20\n",
            "328/328 [==============================] - 2744s 8s/step - loss: 0.3348 - accuracy: 0.8556 - val_loss: 0.3361 - val_accuracy: 0.8857\n",
            "Epoch 2/20\n",
            "328/328 [==============================] - 133s 404ms/step - loss: 0.2367 - accuracy: 0.9090 - val_loss: 0.2861 - val_accuracy: 0.8762\n",
            "Epoch 3/20\n",
            "328/328 [==============================] - 132s 402ms/step - loss: 0.2157 - accuracy: 0.9166 - val_loss: 0.2623 - val_accuracy: 0.8857\n",
            "Epoch 4/20\n",
            "328/328 [==============================] - 131s 398ms/step - loss: 0.2051 - accuracy: 0.9177 - val_loss: 0.2530 - val_accuracy: 0.8952\n",
            "Epoch 5/20\n",
            "328/328 [==============================] - 132s 402ms/step - loss: 0.1950 - accuracy: 0.9228 - val_loss: 0.2411 - val_accuracy: 0.8952\n",
            "Epoch 6/20\n",
            "328/328 [==============================] - 134s 409ms/step - loss: 0.1798 - accuracy: 0.9287 - val_loss: 0.2311 - val_accuracy: 0.8952\n",
            "Epoch 7/20\n",
            "328/328 [==============================] - 132s 401ms/step - loss: 0.1724 - accuracy: 0.9348 - val_loss: 0.2268 - val_accuracy: 0.9048\n",
            "Epoch 8/20\n",
            "328/328 [==============================] - 131s 398ms/step - loss: 0.1781 - accuracy: 0.9318 - val_loss: 0.2191 - val_accuracy: 0.9048\n",
            "Epoch 9/20\n",
            "328/328 [==============================] - 131s 399ms/step - loss: 0.1685 - accuracy: 0.9375 - val_loss: 0.2175 - val_accuracy: 0.9048\n",
            "Epoch 10/20\n",
            "328/328 [==============================] - 133s 405ms/step - loss: 0.1617 - accuracy: 0.9396 - val_loss: 0.2135 - val_accuracy: 0.9048\n",
            "Epoch 11/20\n",
            "328/328 [==============================] - 131s 400ms/step - loss: 0.1674 - accuracy: 0.9346 - val_loss: 0.2113 - val_accuracy: 0.9048\n",
            "Epoch 12/20\n",
            "328/328 [==============================] - 133s 403ms/step - loss: 0.1657 - accuracy: 0.9369 - val_loss: 0.2117 - val_accuracy: 0.9143\n",
            "Epoch 13/20\n",
            "328/328 [==============================] - 138s 418ms/step - loss: 0.1566 - accuracy: 0.9390 - val_loss: 0.2055 - val_accuracy: 0.9238\n",
            "Epoch 14/20\n",
            "328/328 [==============================] - 134s 406ms/step - loss: 0.1636 - accuracy: 0.9371 - val_loss: 0.2107 - val_accuracy: 0.9143\n",
            "Epoch 15/20\n",
            "328/328 [==============================] - 135s 410ms/step - loss: 0.1525 - accuracy: 0.9399 - val_loss: 0.2026 - val_accuracy: 0.9238\n",
            "Epoch 16/20\n",
            "328/328 [==============================] - 133s 403ms/step - loss: 0.1526 - accuracy: 0.9417 - val_loss: 0.2009 - val_accuracy: 0.9238\n",
            "Epoch 17/20\n",
            "328/328 [==============================] - 132s 402ms/step - loss: 0.1530 - accuracy: 0.9413 - val_loss: 0.1995 - val_accuracy: 0.9143\n",
            "Epoch 18/20\n",
            "328/328 [==============================] - 133s 405ms/step - loss: 0.1486 - accuracy: 0.9439 - val_loss: 0.1967 - val_accuracy: 0.9238\n",
            "Epoch 19/20\n",
            "328/328 [==============================] - 133s 404ms/step - loss: 0.1441 - accuracy: 0.9468 - val_loss: 0.1970 - val_accuracy: 0.9238\n",
            "Epoch 20/20\n",
            "328/328 [==============================] - 131s 399ms/step - loss: 0.1478 - accuracy: 0.9472 - val_loss: 0.1970 - val_accuracy: 0.9238\n",
            "Number of Layers In the Base Model: 190\n",
            "Epoch 20/40\n",
            "328/328 [==============================] - 144s 419ms/step - loss: 0.1322 - accuracy: 0.9517 - val_loss: 0.1743 - val_accuracy: 0.9333\n",
            "Epoch 21/40\n",
            "328/328 [==============================] - 134s 408ms/step - loss: 0.1339 - accuracy: 0.9496 - val_loss: 0.1563 - val_accuracy: 0.9429\n",
            "Epoch 22/40\n",
            "328/328 [==============================] - 135s 409ms/step - loss: 0.1157 - accuracy: 0.9612 - val_loss: 0.1717 - val_accuracy: 0.9333\n",
            "Epoch 23/40\n",
            "328/328 [==============================] - 133s 404ms/step - loss: 0.1157 - accuracy: 0.9550 - val_loss: 0.1312 - val_accuracy: 0.9714\n",
            "Epoch 24/40\n",
            "328/328 [==============================] - 136s 412ms/step - loss: 0.1073 - accuracy: 0.9584 - val_loss: 0.1317 - val_accuracy: 0.9619\n",
            "Epoch 25/40\n",
            "328/328 [==============================] - 131s 397ms/step - loss: 0.1020 - accuracy: 0.9626 - val_loss: 0.1186 - val_accuracy: 0.9619\n",
            "Epoch 26/40\n",
            "328/328 [==============================] - 131s 398ms/step - loss: 0.1009 - accuracy: 0.9639 - val_loss: 0.1105 - val_accuracy: 0.9714\n",
            "Epoch 27/40\n",
            "328/328 [==============================] - 132s 402ms/step - loss: 0.0967 - accuracy: 0.9620 - val_loss: 0.1104 - val_accuracy: 0.9714\n",
            "Epoch 28/40\n",
            "328/328 [==============================] - 131s 398ms/step - loss: 0.0941 - accuracy: 0.9673 - val_loss: 0.1217 - val_accuracy: 0.9524\n",
            "Epoch 29/40\n",
            "328/328 [==============================] - 128s 390ms/step - loss: 0.0872 - accuracy: 0.9705 - val_loss: 0.1067 - val_accuracy: 0.9714\n",
            "Epoch 30/40\n",
            "328/328 [==============================] - 132s 401ms/step - loss: 0.0833 - accuracy: 0.9690 - val_loss: 0.1095 - val_accuracy: 0.9524\n",
            "Epoch 31/40\n",
            "328/328 [==============================] - 130s 394ms/step - loss: 0.0843 - accuracy: 0.9692 - val_loss: 0.1009 - val_accuracy: 0.9619\n",
            "Epoch 32/40\n",
            "328/328 [==============================] - 132s 402ms/step - loss: 0.0791 - accuracy: 0.9715 - val_loss: 0.1520 - val_accuracy: 0.9429\n",
            "Epoch 33/40\n",
            "328/328 [==============================] - 137s 415ms/step - loss: 0.0782 - accuracy: 0.9709 - val_loss: 0.1069 - val_accuracy: 0.9524\n",
            "Epoch 34/40\n",
            "328/328 [==============================] - 136s 412ms/step - loss: 0.0766 - accuracy: 0.9711 - val_loss: 0.0989 - val_accuracy: 0.9524\n",
            "Epoch 35/40\n",
            "328/328 [==============================] - 130s 396ms/step - loss: 0.0702 - accuracy: 0.9747 - val_loss: 0.0960 - val_accuracy: 0.9714\n",
            "Epoch 36/40\n",
            "328/328 [==============================] - 129s 391ms/step - loss: 0.0710 - accuracy: 0.9740 - val_loss: 0.0983 - val_accuracy: 0.9619\n",
            "Epoch 37/40\n",
            "328/328 [==============================] - 131s 399ms/step - loss: 0.0694 - accuracy: 0.9755 - val_loss: 0.0936 - val_accuracy: 0.9619\n",
            "Epoch 38/40\n",
            "328/328 [==============================] - 136s 412ms/step - loss: 0.0700 - accuracy: 0.9751 - val_loss: 0.0954 - val_accuracy: 0.9619\n",
            "Epoch 39/40\n",
            "328/328 [==============================] - 132s 403ms/step - loss: 0.0651 - accuracy: 0.9778 - val_loss: 0.1228 - val_accuracy: 0.9429\n",
            "Epoch 40/40\n",
            "328/328 [==============================] - 132s 400ms/step - loss: 0.0617 - accuracy: 0.9795 - val_loss: 0.1025 - val_accuracy: 0.9524\n",
            "Test Loss: 0.08782768994569778\n",
            "Test Accuracy: 0.9693251252174377\n"
          ]
        },
        {
          "output_type": "display_data",
          "data": {
            "text/plain": [
              "<Figure size 1400x500 with 2 Axes>"
            ],
            "image/png": "[encoded data removed]"
          },
          "metadata": {}
        }
      ],
      "source": [
        "Epochs = [40]\n",
        "learning_rates= [0.001]\n",
        "\n",
        "opt = SGD\n",
        "\n",
        "lr_epoch_test_acc = {}\n",
        "lr_epoch_test_loss = {}\n",
        "for Epoch in Epochs:\n",
        "  initial_epochs = Epoch//2\n",
        "  for lr in learning_rates:\n",
        "    base_model = create_base_model()\n",
        "    model = get_pre_trained_model(base_model)\n",
        "    # Training the model with all layers frozen\n",
        "    model.compile(loss='binary_crossentropy',\n",
        "                optimizer = opt(learning_rate=lr), metrics='accuracy')\n",
        "    # model.summary()\n",
        "    history = model.fit(ds_train,\n",
        "            batch_size=BATCH, epochs=initial_epochs,\n",
        "            validation_data=ds_val,\n",
        "            steps_per_epoch=(len(df_train)/BATCH),\n",
        "            validation_steps=(len(df_val)/BATCH))\n",
        "    # Evaluate the Accuracy and Loss (Before Fine Tuning)\n",
        "    train_acc = history.history['accuracy']\n",
        "    train_loss = history.history['loss']\n",
        "    val_acc = history.history['val_accuracy']\n",
        "    val_loss = history.history['val_loss']\n",
        "\n",
        "    # adding fine tuning\n",
        "    add_fine_tuning(base_model)\n",
        "    model.compile(loss='binary_crossentropy',\n",
        "                optimizer = opt(learning_rate=lr/10), metrics='accuracy')\n",
        "    history_fine = model.fit(ds_train,\n",
        "                        batch_size=BATCH,\n",
        "                        epochs=Epoch,\n",
        "                        initial_epoch=history.epoch[-1],\n",
        "                        validation_data=ds_val,\n",
        "                        steps_per_epoch=(len(df_train)/BATCH),\n",
        "                        validation_steps=(len(df_val)/BATCH))\n",
        "    # Evaluate the Accuracy and Loss (After Fine Tuning):\n",
        "\n",
        "    test_loss, test_accuracy = model.evaluate(ds_test, verbose=0)\n",
        "    lr_epoch_tuple = (Epoch, lr)\n",
        "    lr_epoch_test_acc[lr_epoch_tuple] = test_accuracy\n",
        "    lr_epoch_test_loss[lr_epoch_tuple] = test_loss\n",
        "    print(\"Test Loss:\", test_loss)\n",
        "    print(\"Test Accuracy:\", test_accuracy)\n",
        "\n",
        "    train_acc += history_fine.history['accuracy']\n",
        "    val_acc += history_fine.history['val_accuracy']\n",
        "    train_loss += history_fine.history['loss']\n",
        "    val_loss += history_fine.history['val_loss']\n",
        "\n",
        "    # Create a figure and subplot\n",
        "    fig, axs = plt.subplots(1, 2, figsize=(14, 5))\n",
        "    # Plot the training and validation accuracy\n",
        "    axs[0].plot(train_acc, 'bo-', label='Training Accuracy')\n",
        "    axs[0].plot(val_acc, 'ro-', label='Validation Accuracy')\n",
        "    axs[0].set_title(f'Training & Validation Accuracy\\n opt={opt.__name__}, lr={lr}, Epochs={Epoch}')\n",
        "    # axs[0].title.set_size(10) # if title is too big, change the size here\n",
        "    axs[0].legend(loc='lower right')\n",
        "    axs[0].set_xlabel(\"Epochs\")\n",
        "    axs[0].set_ylabel(\"Accuracy\")\n",
        "\n",
        "    # Plot the training and validation loss\n",
        "    axs[1].plot(train_loss, 'bo-', label='Training Loss')\n",
        "    axs[1].plot(val_loss, 'ro-', label='Validation Loss')\n",
        "    axs[1].set_title(f'Training & Validation Loss\\n opt={opt.__name__}, lr={lr}, Epochs={Epoch}')\n",
        "    # axs[1].title.set_size(10) # if title is too big, change the size here\n",
        "    axs[1].legend(loc='upper right')\n",
        "    axs[1].set_xlabel(\"Epochs\")\n",
        "    axs[1].set_ylabel(\"Loss\")\n",
        "\n",
        "    # Adjust spacing between subplots\n",
        "    plt.subplots_adjust(wspace=0.2)\n",
        "\n",
        "plt.show()\n"
      ]
    },
    {
      "cell_type": "markdown",
      "metadata": {
        "id": "5QClIc6Gsxd-"
      },
      "source": [
        "Print the Loss & Accuracy Dictionaries"
      ]
    },
    {
      "cell_type": "code",
      "execution_count": 10,
      "metadata": {
        "colab": {
          "base_uri": "https://localhost:8080/"
        },
        "id": "PUpBoKQHsxd_",
        "outputId": "f2cfe67d-f2a0-4581-e55d-904eb17331cf"
      },
      "outputs": [
        {
          "metadata": {
            "tags": null
          },
          "name": "stdout",
          "output_type": "stream",
          "text": [
            "Test Accuracy and Loss Results with Optimizer: SGD\n",
            "\n",
            "\n",
            "Print Accuracy Results\n",
            "Epochs Number = 40, Learning Rate = 0.001, Accuracy = 0.969\n",
            "\n",
            "\n",
            "Print Loss Results\n",
            "Epochs Number = 40, Learning Rate = 0.001, Loss = 0.088\n"
          ]
        }
      ],
      "source": [
        "print(f\"Test Accuracy and Loss Results with Optimizer: {opt.__name__}\")\n",
        "print()\n",
        "print()\n",
        "def print_results_dict(Accuracy, Loss):\n",
        "    print(\"Print Accuracy Results\")\n",
        "    for key, val in Accuracy.items():\n",
        "        epochs, lr = key\n",
        "        print(f\"Epochs Number = {epochs}, Learning Rate = {lr}, Accuracy = {val:.3f}\")\n",
        "    print()\n",
        "    print()\n",
        "    print(\"Print Loss Results\")\n",
        "    for key, val in Loss.items():\n",
        "        epochs, lr = key\n",
        "        print(f\"Epochs Number = {epochs}, Learning Rate = {lr}, Loss = {val:.3f}\")\n",
        "\n",
        "\n",
        "print_results_dict(lr_epoch_test_acc, lr_epoch_test_loss)"
      ]
    }
  ],
  "metadata": {
    "accelerator": "GPU",
    "colab": {
      "gpuType": "T4",
      "provenance": []
    },
    "kernelspec": {
      "display_name": "Python 3",
      "name": "python3"
    },
    "language_info": {
      "name": "python",
      "version": "3.11.0"
    }
  },
  "nbformat": 4,
  "nbformat_minor": 0
}